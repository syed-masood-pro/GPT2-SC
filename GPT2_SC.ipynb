{
  "nbformat": 4,
  "nbformat_minor": 0,
  "metadata": {
    "colab": {
      "provenance": [],
      "gpuType": "T4"
    },
    "kernelspec": {
      "name": "python3",
      "display_name": "Python 3"
    },
    "language_info": {
      "name": "python"
    },
    "accelerator": "GPU"
  },
  "cells": [
    {
      "cell_type": "markdown",
      "source": [
        "# 🧠 Spam Classification Using GPT-2 Transformer (with `tiktoken` Tokenizer)\n",
        "\n",
        "This project demonstrates the fine-tuning of a **GPT-2-based transformer** model for binary classification — identifying whether an input SMS message is **spam** or **not spam**.\n",
        "\n",
        "---\n",
        "\n",
        "## 🎯 Objective\n",
        "\n",
        "Train a lightweight transformer model (GPT-2 Small - 124M) to classify text messages as:\n",
        "- 📩 **Ham** – legitimate, personal, or informative messages  \n",
        "- 🚫 **Spam** – unsolicited promotional or fraudulent content\n",
        "\n",
        "---\n",
        "\n",
        "## 📂 Dataset\n",
        "\n",
        "The dataset is based on the classic **SMS Spam Collection**, which has been:\n",
        "- Preprocessed and cleaned\n",
        "- Balanced to ensure equal representation of `spam` and `ham` messages\n",
        "\n",
        "---\n",
        "\n",
        "## 🛠️ Tools & Technologies\n",
        "\n",
        "- **Model**: GPT-2 Small (124M parameters)\n",
        "- **Tokenizer**: [`tiktoken`](https://github.com/openai/tiktoken) — optimized BPE tokenizer from OpenAI  \n",
        "- **Framework**: PyTorch\n",
        "- **Training & Evaluation**: Custom loaders, loss/accuracy evaluation, partial layer unfreezing\n",
        "- **Visualization**: Matplotlib for plotting training curves\n",
        "\n",
        "---\n",
        "\n",
        "## 🔄 Workflow Summary\n",
        "\n",
        "1. **Preprocessing**\n",
        "   - Label encoding: `\"spam\" → 1`, `\"ham\" → 0`\n",
        "   - Tokenization using `tiktoken`, padding/truncation to fit GPT context (≤1024 tokens)\n",
        "\n",
        "2. **Model Customization**\n",
        "   - Load GPT-2 architecture from scratch\n",
        "   - Freeze all but the final transformer block and output head\n",
        "   - Replace the original `out_head` to classify into 2 classes\n",
        "\n",
        "3. **Training**\n",
        "   - Fine-tune with CrossEntropyLoss\n",
        "   - Evaluate periodically on a validation split\n",
        "   - Use `AdamW` optimizer with weight decay\n",
        "\n",
        "4. **Evaluation**\n",
        "   - Compute accuracy and loss on:\n",
        "     - Training set\n",
        "     - Validation set\n",
        "     - Test set\n",
        "\n",
        "5. **Visualization**\n",
        "   - Line plots for training/validation loss and accuracy\n",
        "\n",
        "6. **Inference**\n",
        "   - Classify custom messages using the fine-tuned model\n",
        "\n",
        "---\n",
        "\n",
        "## 📊 Performance Snapshot\n",
        "\n",
        "| Dataset    | Accuracy (%) | Loss   |\n",
        "|------------|--------------|--------|\n",
        "| Training   | 98.75%       | 0.772  |\n",
        "| Validation | 95.97%       | 0.764  |\n",
        "| Test       | 94.00%       | 0.789  |\n",
        "\n",
        "> ⚠️ The results indicate strong performance, with the model generalizing well even with limited fine-tuning.\n",
        "\n",
        "---\n",
        "\n",
        "## 🔍 Sample Predictions\n",
        "\n",
        "```python\n",
        "text = \"Congratulations! You've been selected for a free cruise to the Bahamas.\"\n",
        "print(classify_review(text, model, tokenizer, device))  # ➜ spam\n",
        "\n",
        "text = \"Hey, are we still on for the meeting at 3 PM?\"\n",
        "print(classify_review(text, model, tokenizer, device))  # ➜ not spam\n",
        "```\n",
        "\n",
        "---\n",
        "\n",
        "## ✅ Conclusion\n",
        "\n",
        "By leveraging the capabilities of GPT-2 and the efficiency of `tiktoken`, we achieved high accuracy on a binary classification task using minimal labeled data and only partial model fine-tuning. This approach can be adapted to similar tasks like phishing detection, toxic comment filtering, or support ticket triage.\n",
        "\n",
        "---\n"
      ],
      "metadata": {
        "id": "uuK01V51Niu_"
      }
    },
    {
      "cell_type": "code",
      "source": [
        "import torch\n",
        "import torch.nn as nn"
      ],
      "metadata": {
        "id": "caYPW731ZG4M"
      },
      "execution_count": 70,
      "outputs": []
    },
    {
      "cell_type": "code",
      "execution_count": 181,
      "metadata": {
        "id": "8W-15V-Hrdw3"
      },
      "outputs": [],
      "source": [
        "# Model configuration dictionary (124M parameter version)\n",
        "GPT_CONFIG_124m={\n",
        "    'vocab_size':50257,        # Size of the vocabulary; used in the embedding layer\n",
        "    'context_length':256,     # Maximum number of tokens the model can consider at once (sequence length)\n",
        "    'emb_dim':768,             # Dimensionality of the token embeddings and hidden states\n",
        "    'n_heads':12,              # Number of attention heads in the multi-head attention mechanism\n",
        "    'n_layers':12,             # Number of transformer blocks/layers in the model\n",
        "    'dropout':0.1,             # Dropout rate used during training to prevent overfitting\n",
        "    'qkv_bias':False           # Whether to use bias terms in the query, key, and value projection layers\n",
        "}"
      ]
    },
    {
      "cell_type": "markdown",
      "source": [
        "### IMPLEMENTING MULTI-HEAD ATTENTION WITH WEIGHT SPLITS"
      ],
      "metadata": {
        "id": "WGPqSjbOh3fD"
      }
    },
    {
      "cell_type": "markdown",
      "source": [
        "\n",
        "This implementation of `MultiHeadAttention` efficiently computes multi-head self-attention by splitting and processing attention heads in parallel within a single module.\n",
        "\n",
        "---\n",
        "\n",
        "#### Key Highlights:\n",
        "\n",
        "- **Query, Key, Value Projections**: The input tensor is projected using three separate linear layers to obtain queries, keys, and values.\n",
        "- **Head Splitting with Reshape and Transpose**: The output dimension (`d_out`) is divided into `num_heads` and `head_dim`, enabling parallel attention processing across multiple heads.\n",
        "- **Causal Masking**: A causal mask is applied to ensure that each position can only attend to previous and current positions in the sequence.\n",
        "- **Output Projection**: After computing attention for each head and combining the results, a final linear layer projects the output back to the original embedding size.\n",
        "\n",
        "---\n",
        "\n",
        "#### Step-by-Step Breakdown:\n",
        "\n",
        "1. **Linear Projections**: The input is linearly transformed into queries, keys, and values of shape `(b, num_tokens, d_out)`.\n",
        "2. **Head Reshaping**: These are reshaped to `(b, num_tokens, num_heads, head_dim)` using `.view()`.\n",
        "3. **Transposition**: The tensors are transposed to `(b, num_heads, num_tokens, head_dim)` to align for batched matrix multiplication.\n",
        "4. **Attention Scores**: Attention scores are computed using the scaled dot product: `queries @ keys.T`, scaled by `sqrt(head_dim)`.\n",
        "5. **Masking**: A causal mask is applied to the upper triangular part to block future tokens.\n",
        "6. **Softmax and Dropout**: The masked attention scores are passed through softmax and dropout for regularization.\n",
        "7. **Context Vector**: Attention weights are used to compute a weighted sum of values, producing the context vector.\n",
        "8. **Combining Heads**: The heads are transposed back and reshaped into a single tensor of shape `(b, num_tokens, d_out)`.\n",
        "9. **Output Projection**: The final context vector is passed through an output linear layer (`self.out_proj`).\n",
        "\n",
        "---\n",
        "\n",
        "This structure enables efficient multi-head attention using batched operations and avoids redundant computation, making it well-suited for large-scale Transformer models.\n"
      ],
      "metadata": {
        "id": "RS6G3u2IizJR"
      }
    },
    {
      "cell_type": "code",
      "source": [
        "#Implementing scaled dot-product attention with masking\n",
        "class MultiHeadAttention(nn.Module):\n",
        "  def __init__(self,d_in,d_out,context_length,dropout,num_heads,qkv_bias=False):\n",
        "    # Just making sure the output size works with how many heads we want\n",
        "    # Ensure the output dimension is divisible by the number of heads\n",
        "    super().__init__()\n",
        "    assert (d_out%num_heads==0),'d_out must be divisible by num_heads'\n",
        "\n",
        "    self.d_out=d_out\n",
        "    self.num_heads=num_heads\n",
        "    self.head_dim=d_out//num_heads              # Each head gets a slice of the total embedding\n",
        "\n",
        "    # Linear layers to get Q, K, V\n",
        "    self.W_query=nn.Linear(d_in,d_out,bias=qkv_bias)\n",
        "    self.W_key=nn.Linear(d_in,d_out,bias=qkv_bias)\n",
        "    self.W_value=nn.Linear(d_in,d_out,bias=qkv_bias)\n",
        "    self.out_proj=nn.Linear(d_out,d_out)        # this layer use to combine head outputs\n",
        "    self.dropout=nn.Dropout(dropout)            # Dropout layer to prevent overfitting\n",
        "    # Causal mask to prevent attention to future tokens\n",
        "    self.register_buffer('mask',torch.triu(torch.ones(context_length,context_length),diagonal=1))\n",
        "\n",
        "  def forward(self,x):\n",
        "    b,num_tokens,d_in=x.shape                  # b: batch size, num_tokens: sequence length\n",
        "    # Linear projections\n",
        "    queries=self.W_query(x)\n",
        "    keys=self.W_key(x)                         # Shape: (b, num_tokens, d_out)\n",
        "    values=self.W_value(x)\n",
        "\n",
        "    # Break each into multiple heads for parallel attention\n",
        "    #implicitly split the matrix by adding a `num_heads` dimension\n",
        "    # Unroll last dim: (b, num_tokens, d_out) to (b, num_tokens, num_heads, head_dim)\n",
        "    keys=keys.view(b,num_tokens,self.num_heads,self.head_dim)\n",
        "    queries=queries.view(b,num_tokens,self.num_heads,self.head_dim)\n",
        "    values=values.view(b,num_tokens,self.num_heads,self.head_dim) # Changed self.head to self.head_dim\n",
        "\n",
        "    #transpose: (b,num_tokens,num_heads,head_dim) to (b,num_heads,num_tokens,head_dim)\n",
        "    keys=keys.transpose(1,2)\n",
        "    queries=queries.transpose(1,2)\n",
        "    values=values.transpose(1,2)\n",
        "\n",
        "    #Dot prod of each head\n",
        "    # Compute scaled dot-product attention(self-attention) with a causal mask\n",
        "    attn_scores=queries @ keys.transpose(2,3)       # Shape: (b, heads, seq_len, seq_len)\n",
        "\n",
        "    # Original mask truncated to the number of tokens and converted to boolean\n",
        "    #####mask_bool=self.mask.bool()[:num_tokens,:num_tokens]\n",
        "    mask_bool = self.mask[:num_tokens, :num_tokens].bool().to(x.device)\n",
        "    # Use the mask to fill attention scores\n",
        "    attn_scores.masked_fill_(mask_bool,-torch.inf)\n",
        "    ######attn_scores.masked_fill_(mask_bool, -1e9)\n",
        "\n",
        "    attn_weights=torch.softmax(attn_scores/keys.shape[-1]**0.5,dim=-1)\n",
        "    attn_weights=self.dropout(attn_weights)\n",
        "\n",
        "    # Shape: (b, num_tokens, num_heads, head_dim)\n",
        "    context_vec=(attn_weights @values).transpose(1,2)\n",
        "\n",
        "    # Combine heads, where self.d_out = self.num_heads * self.head_dim\n",
        "    context_vec=context_vec.contiguous().view(b,num_tokens,self.d_out) # contiguous is used for reshape matrices in same block of memory\n",
        "    context_vec=self.out_proj(context_vec)\n",
        "    return context_vec"
      ],
      "metadata": {
        "id": "tf4pVq7Vx93j"
      },
      "execution_count": 182,
      "outputs": []
    },
    {
      "cell_type": "markdown",
      "source": [
        "### Custom Layer Normalization with Learnable Parameters\n",
        "\n",
        "This is a custom implementation of Layer Normalization, which normalizes the input across the last dimension (usually the embedding dimension) and includes two trainable parameters: **scale (γ)** and **shift (β)**.\n",
        "\n",
        "---\n",
        "\n",
        "#### Key Components:\n",
        "\n",
        "- **Mean and Variance Computation**:\n",
        "  - Mean and variance are computed across the last dimension for each input tensor.\n",
        "  - `unbiased=False` is used to divide by `n` instead of `n-1` (Bessel’s correction is avoided for efficiency).\n",
        "\n",
        "- **Normalization Formula**:\n",
        "  $$\n",
        "  \\text{norm}_x = \\frac{x - \\mu}{\\sqrt{\\sigma^2 + \\epsilon}}\n",
        "  $$\n",
        "\n",
        "- **Learnable Parameters**:\n",
        "  - `scale (γ)`: Initialized as ones, used to scale the normalized output.\n",
        "  - `shift (β)`: Initialized as zeros, used to shift the normalized output.\n",
        "\n",
        "- **Epsilon (ε)**:\n",
        "  - A small constant (`1e-5`) added to the variance to prevent division by zero.\n",
        "\n",
        "---\n",
        "\n",
        "#### Forward Pass Steps:\n",
        "\n",
        "1. Compute the **mean** and **variance** along the last dimension.\n",
        "2. Normalize the input: subtract the mean and divide by the standard deviation.\n",
        "3. Apply learnable **scale** and **shift** parameters.\n",
        "4. Return the final normalized and parameter-adjusted output.\n",
        "\n",
        "---\n",
        "\n",
        "This layer helps stabilize training by ensuring consistent input distributions throughout the network, especially beneficial in deep Transformer architectures.\n"
      ],
      "metadata": {
        "id": "uj5TzThFjLfa"
      }
    },
    {
      "cell_type": "code",
      "source": [
        "#Implementing Custom layer normalization with learnable parameters\n",
        "class LayerNorm(nn.Module):\n",
        "  def __init__(self,emb_dim):\n",
        "    super().__init__()\n",
        "    self.eps=1e-5\n",
        "    self.scale=nn.Parameter(torch.ones(emb_dim))          # Learnable scale parameter (γ)\n",
        "    self.shift=nn.Parameter(torch.zeros(emb_dim))         # Learnable shift parameter (β)\n",
        "\n",
        "  def forward(self,x):\n",
        "    mean=x.mean(dim=-1,keepdim=True)                      # Compute mean along the last dimension\n",
        "    var=x.var(dim=-1,keepdim=True,unbiased=False)         # unbiased is false bcz of to divide by n instead of n-1(bessels correction)\n",
        "    norm_x=(x-mean)/torch.sqrt(var+self.eps)              # Normalize input\n",
        "    return self.scale* norm_x + self.shift                # Apply learnable scale and shift"
      ],
      "metadata": {
        "id": "1Yw0sP3-sV5D"
      },
      "execution_count": 183,
      "outputs": []
    },
    {
      "cell_type": "markdown",
      "source": [
        "### Custom Implementation of the GELU Activation Function\n",
        "\n",
        "This is a custom PyTorch implementation of the **Gaussian Error Linear Unit (GELU)** activation, commonly used in Transformer models such as BERT and GPT.\n",
        "\n",
        "---\n",
        "\n",
        "#### What is GELU?\n",
        "\n",
        "GELU is a smooth and differentiable activation function that combines properties of both ReLU and sigmoid functions. Instead of abruptly cutting off values like ReLU, GELU weights inputs based on their magnitude.\n",
        "\n",
        "---\n",
        "\n",
        "#### Approximation Formula:\n",
        "\n",
        "The original GELU function is defined using the Gaussian cumulative distribution function. However, for efficiency, a commonly used tanh-based approximation is:\n",
        "\n",
        "$$\n",
        "\\text{GELU}(x) = 0.5 \\cdot x \\cdot \\left(1 + \\tanh\\left[\\sqrt{\\frac{2}{\\pi}} \\cdot \\left(x + 0.044715 \\cdot x^3\\right)\\right]\\right)\n",
        "$$\n",
        "\n",
        "---\n",
        "\n",
        "#### Forward Pass:\n",
        "\n",
        "1. Compute the cubic term: \\( 0.044715 \\cdot x^3 \\)\n",
        "2. Add it to the input: \\( x + 0.044715 \\cdot x^3 \\)\n",
        "3. Multiply by \\( \\sqrt{2/\\pi} \\) and apply `tanh`\n",
        "4. Multiply the result by \\( 0.5 \\cdot x \\)\n",
        "\n",
        "This provides a smooth, non-linear activation that performs well in practice, especially in NLP models.\n",
        "\n",
        "---\n",
        "\n",
        "#### Why Use GELU?\n",
        "\n",
        "- It allows small negative values to pass (unlike ReLU)\n",
        "- Leads to better gradient flow\n",
        "- Used in state-of-the-art transformer-based architectures\n"
      ],
      "metadata": {
        "id": "M7403d_2jk_5"
      }
    },
    {
      "cell_type": "code",
      "source": [
        "# Custom implementation of the Gaussian Error Linear Unit (GELU) activation function\n",
        "class GELU(nn.Module):\n",
        "  def __init__(self):\n",
        "    super().__init__()\n",
        "\n",
        "  def forward(self,x):\n",
        "    return 0.5*x*(1+torch.tanh(torch.sqrt(torch.tensor(2/torch.pi))*(x+0.044715*torch.pow(x,3))))     # Apply the GELU activation using the tanh-based approximation"
      ],
      "metadata": {
        "id": "O2lAPyl-tlq-"
      },
      "execution_count": 184,
      "outputs": []
    },
    {
      "cell_type": "markdown",
      "source": [
        "### Feed-Forward Network in Transformer Block\n",
        "\n",
        "This module implements the **position-wise feed-forward network** used inside Transformer blocks. It is a crucial component that applies non-linearity and learns richer representations after the attention mechanism.\n",
        "\n",
        "---\n",
        "\n",
        "#### Structure:\n",
        "\n",
        "The feed-forward network is composed of two linear transformations with a non-linear activation (GELU) in between:\n",
        "\n",
        "1. **Expansion Layer**:\n",
        "   - Projects the input embedding from size `emb_dim` to `4 * emb_dim`\n",
        "   - This widening helps the model capture more complex interactions\n",
        "2. **GELU Activation**:\n",
        "   - Adds smooth non-linearity\n",
        "3. **Projection Layer**:\n",
        "   - Reduces the dimensionality back to `emb_dim` to match the input shape\n",
        "\n",
        "---\n",
        "\n",
        "#### Implemented as:\n",
        "\n",
        "```python\n",
        "nn.Sequential(\n",
        "    nn.Linear(emb_dim, 4 * emb_dim),  # Expand\n",
        "    GELU(),                            # Apply GELU\n",
        "    nn.Linear(4 * emb_dim, emb_dim)    # Project back\n",
        ")\n"
      ],
      "metadata": {
        "id": "OSEgZjfRj1E2"
      }
    },
    {
      "cell_type": "code",
      "source": [
        "# Implementation of the position-wise feed-forward network used in Transformer blocks\n",
        "class FeedForward(nn.Module):\n",
        "  def __init__(self,cfg):\n",
        "    super().__init__()\n",
        "    # Defining a two-layer feed-forward network with GELU activation\n",
        "    #The hidden layer expands the embedding dimension by a factor of 4\n",
        "    self.layers=nn.Sequential(\n",
        "        nn.Linear(cfg['emb_dim'],4*cfg['emb_dim']),       # First linear layer: expansion\n",
        "        GELU(),\n",
        "        nn.Linear(4*cfg['emb_dim'],cfg['emb_dim'])        # Second linear layer: projection back\n",
        "    )\n",
        "\n",
        "  def forward(self,x):\n",
        "    return self.layers(x)                                 # Pass input through the feed-forward layers"
      ],
      "metadata": {
        "id": "MBM5nyIOwzDm"
      },
      "execution_count": 185,
      "outputs": []
    },
    {
      "cell_type": "markdown",
      "source": [
        "### Transformer Block with Residual Connections and Layer Normalization\n",
        "\n",
        "This module defines a single **Transformer block**, one of the key building units in architectures like GPT and BERT. It consists of two main components:\n",
        "\n",
        "1. **Multi-Head Self-Attention**\n",
        "2. **Position-Wise Feed-Forward Network**\n",
        "\n",
        "Each sublayer is wrapped with **Layer Normalization** and a **Residual Connection** to enhance gradient flow and model stability during training.\n",
        "\n",
        "---\n",
        "\n",
        "#### Architecture Overview:\n",
        "\n",
        "The block follows the **Pre-Norm** layout, where Layer Normalization is applied **before** each sublayer:\n",
        "\n",
        "1. **Sublayer 1 (Self-Attention Path)**:\n",
        "   - Input → LayerNorm → Multi-Head Attention → Dropout → Add Residual\n",
        "\n",
        "2. **Sublayer 2 (Feed-Forward Path)**:\n",
        "   - Output of Sublayer 1 → LayerNorm → FeedForward → Dropout → Add Residual\n",
        "\n",
        "---\n",
        "\n",
        "#### Detailed Steps:\n",
        "\n",
        "- `LayerNorm (norm1)`:\n",
        "  - Normalizes input before self-attention.\n",
        "- `MultiHeadAttention`:\n",
        "  - Applies attention across multiple heads with masking.\n",
        "- `Dropout`:\n",
        "  - Prevents overfitting and regularizes residual paths.\n",
        "- `Residual Connection`:\n",
        "  - Adds the original input back to the output (i.e., `x + shortcut`).\n",
        "- `LayerNorm (norm2)`:\n",
        "  - Normalizes output of attention before feed-forward layer.\n",
        "- `FeedForward`:\n",
        "  - Two-layer network with GELU activation that transforms token representations.\n",
        "- Final output is the sum of the feed-forward output and its residual.\n",
        "\n",
        "---\n",
        "\n",
        "#### Why Residual + Normalization?\n",
        "\n",
        "- **Residual Connections**: Help preserve the original signal and gradients during backpropagation.\n",
        "- **Layer Normalization**: Stabilizes training and ensures consistent data distribution across layers.\n",
        "- **Dropout**: Adds noise during training to improve generalization.\n",
        "\n",
        "---\n",
        "\n",
        "This modular design makes the Transformer block both deep and expressive while maintaining training stability.\n"
      ],
      "metadata": {
        "id": "vHXaeFtckENr"
      }
    },
    {
      "cell_type": "code",
      "source": [
        "# Implementation of a single Transformer block with residual connections and normalization\n",
        "class TransformerBlock(nn.Module):\n",
        "  def __init__(self,cfg):\n",
        "    super().__init__()\n",
        "\n",
        "    # Multi-head self-attention layer\n",
        "    self.att=MultiHeadAttention(\n",
        "        d_in=cfg['emb_dim'],\n",
        "        d_out=cfg['emb_dim'],\n",
        "        context_length=cfg['context_length'],\n",
        "        num_heads=cfg['n_heads'],\n",
        "        dropout=cfg['dropout'],\n",
        "        qkv_bias=cfg['qkv_bias']\n",
        "    )\n",
        "\n",
        "    # Position-wise feed-forward layer\n",
        "    self.ff=FeedForward(cfg)\n",
        "\n",
        "    # Layer normalization before attention and feed-forward sublayers\n",
        "    self.norm1=LayerNorm(cfg['emb_dim'])\n",
        "    self.norm2=LayerNorm(cfg['emb_dim'])\n",
        "\n",
        "    # Dropout applied to residual connections\n",
        "    self.drop_shortcut=nn.Dropout(cfg['dropout'])\n",
        "\n",
        "  def forward(self,x):\n",
        "    # First sublayer: LayerNorm → Attention → Dropout → Residual Add\n",
        "    shortcut=x\n",
        "    x=self.norm1(x)\n",
        "    x=self.att(x)\n",
        "    x=self.drop_shortcut(x)\n",
        "    x=x+shortcut              # Residual connection\n",
        "\n",
        "    # Second sublayer: LayerNorm → FeedForward → Dropout → Residual Add\n",
        "    shortcut=x\n",
        "    x=self.norm2(x)\n",
        "    x=self.ff(x)\n",
        "    x=self.drop_shortcut(x)\n",
        "    x=x+shortcut              # Residual connection\n",
        "    return x"
      ],
      "metadata": {
        "id": "1pMYOFWuxbEq"
      },
      "execution_count": 186,
      "outputs": []
    },
    {
      "cell_type": "markdown",
      "source": [
        "### Full GPT-Style Transformer Model\n",
        "\n",
        "This module defines a complete GPT-style autoregressive Transformer model designed for next-token prediction. It follows the architectural principles of GPT, including:\n",
        "\n",
        "- **Token and Positional Embeddings**\n",
        "- **Stacked Transformer Blocks**\n",
        "- **Layer Normalization**\n",
        "- **Final Projection to Vocabulary**\n",
        "\n",
        "---\n",
        "\n",
        "#### Model Components:\n",
        "\n",
        "- **Token Embedding (`tok_emb`)**:\n",
        "  - Converts input token indices into dense vectors of size `emb_dim`.\n",
        "\n",
        "- **Positional Embedding (`pos_emb`)**:\n",
        "  - Learns a unique embedding for each position in the sequence to encode order information.\n",
        "\n",
        "- **Embedding Dropout (`drop_emb`)**:\n",
        "  - Regularizes the input embeddings by randomly dropping units during training.\n",
        "\n",
        "- **Transformer Stack (`trf_block`)**:\n",
        "  - A stack of `n_layers` Transformer blocks, each containing multi-head self-attention and a feed-forward network.\n",
        "\n",
        "- **Final Layer Normalization (`final_norm`)**:\n",
        "  - Applied after all Transformer blocks to stabilize output representations.\n",
        "\n",
        "- **Output Head (`out_head`)**:\n",
        "  - A linear layer that projects the final hidden states to the vocabulary size for next-token prediction.\n",
        "\n",
        "---\n",
        "\n",
        "#### Forward Pass Flow:\n",
        "\n",
        "1. **Input Shape**: `(batch_size, sequence_length)`\n",
        "2. Compute:\n",
        "   - Token embeddings → `(batch_size, seq_len, emb_dim)`\n",
        "   - Positional embeddings → `(seq_len, emb_dim)`\n",
        "3. **Add Embeddings**:\n",
        "   - Combine token and position embeddings element-wise.\n",
        "4. **Apply Dropout**:\n",
        "   - Regularize combined embeddings before passing to the Transformer.\n",
        "5. **Pass Through Transformer Blocks**:\n",
        "   - Apply deep self-attention and feed-forward processing.\n",
        "6. **Final Normalization**:\n",
        "   - Normalize outputs from the last Transformer block.\n",
        "7. **Output Projection**:\n",
        "   - Generate logits for each token position over the vocabulary → shape: `(batch_size, seq_len, vocab_size)`\n",
        "\n",
        "---\n",
        "\n",
        "#### Output:\n",
        "\n",
        "- The final `logits` tensor is typically passed to a cross-entropy loss for training language models, where the model learns to predict the next token given all previous tokens in the sequence.\n",
        "\n",
        "This design mirrors the structure of models like GPT-2 and GPT-3, enabling efficient and powerful language modeling.\n"
      ],
      "metadata": {
        "id": "m_u9BsPQkRlj"
      }
    },
    {
      "cell_type": "code",
      "source": [
        "# Full GPT-style Transformer model implementation\n",
        "class GPTModel(nn.Module):\n",
        "  def __init__(self,cfg):\n",
        "    super().__init__()\n",
        "    self.tok_emb=nn.Embedding(cfg['vocab_size'],cfg['emb_dim'])             # Token embedding layer: maps token indices to embedding vectors\n",
        "    self.pos_emb=nn.Embedding(cfg['context_length'],cfg['emb_dim'])         # Positional embedding layer: learns position information for each token\n",
        "    self.drop_emb=nn.Dropout(cfg['dropout'])                                # Dropout applied to embeddings to regularize training\n",
        "\n",
        "    # Stack of Transformer blocks\n",
        "    self.trf_block=nn.Sequential(*[TransformerBlock(cfg) for _ in range(cfg['n_layers'])])\n",
        "\n",
        "    self.final_norm=LayerNorm(cfg['emb_dim'])                               # Final layer normalization applied after all Transformer blocks\n",
        "    self.out_head=nn.Linear(cfg['emb_dim'],cfg['vocab_size'],bias=False)    # Output projection to vocabulary size (used for next-token prediction)\n",
        "\n",
        "  def forward(self,in_idx):\n",
        "    batch_size,seq_len=in_idx.shape                   # Input: in_idx of shape (batch_size, sequence_length)\n",
        "\n",
        "    # Compute token and position embeddings\n",
        "    tok_embeds=self.tok_emb(in_idx)                   # (batch_size, seq_len, emb_dim)\n",
        "    pos_embeds=self.pos_emb(torch.arange(seq_len,device=in_idx.device))\n",
        "\n",
        "    # Combine token and positional embeddings\n",
        "    x=tok_embeds+pos_embeds               # shape: batch,num_tokens,emb_size\n",
        "\n",
        "    x=self.drop_emb(x)                    # Apply dropout to combined embeddings\n",
        "    x=self.trf_block(x)                   # Pass through stacked Transformer blocks\n",
        "    x=self.final_norm(x)                  # Apply final normalization\n",
        "    logits=self.out_head(x)               # Compute logits over vocabulary (batch_size, seq_len, vocab_size)\n",
        "    return logits"
      ],
      "metadata": {
        "id": "ZipoM1R49UKu"
      },
      "execution_count": 187,
      "outputs": []
    },
    {
      "cell_type": "markdown",
      "source": [
        "### Calculating Total Parameters in the GPT Model\n",
        "\n",
        "To assess the size and capacity of the model, we compute the **total number of trainable parameters** using:\n",
        "\n"
      ],
      "metadata": {
        "id": "DeLzd9BmkdVt"
      }
    },
    {
      "cell_type": "code",
      "source": [
        "total_params=sum(p.numel() for p in GPTModel(GPT_CONFIG_124m).parameters())\n",
        "print(f'Total number of parameters: {total_params}')"
      ],
      "metadata": {
        "colab": {
          "base_uri": "https://localhost:8080/"
        },
        "id": "jSlpd7HpaXCI",
        "outputId": "23e17a23-b5bb-424d-ffce-00764055c03c"
      },
      "execution_count": 188,
      "outputs": [
        {
          "output_type": "stream",
          "name": "stdout",
          "text": [
            "Total number of parameters: 162419712\n"
          ]
        }
      ]
    },
    {
      "cell_type": "markdown",
      "source": [
        "### Calculating GPT Parameters (Excluding Output Head)\n",
        "\n",
        "To better understand the contribution of different parts of the model, we can compute the total number of parameters **excluding the final output projection layer (`out_head`)**:\n"
      ],
      "metadata": {
        "id": "OZvIGDm0kli2"
      }
    },
    {
      "cell_type": "code",
      "source": [
        "total_param_GPT= total_params- sum(p.numel() for p in GPTModel(GPT_CONFIG_124m).out_head.parameters())\n",
        "print(f'Total number of parameters: {total_param_GPT}')"
      ],
      "metadata": {
        "colab": {
          "base_uri": "https://localhost:8080/"
        },
        "id": "0sE_V-kEhzpJ",
        "outputId": "d439f2c8-a267-4712-9d92-515f1103a000"
      },
      "execution_count": 189,
      "outputs": [
        {
          "output_type": "stream",
          "name": "stdout",
          "text": [
            "Total number of parameters: 123822336\n"
          ]
        }
      ]
    },
    {
      "cell_type": "markdown",
      "source": [
        "### Greedy Decoding for Autoregressive Text Generation\n",
        "\n",
        "This function implements **greedy decoding** for generating text using a GPT-style autoregressive model. It predicts tokens one by one, always selecting the most probable next token at each step.\n",
        "\n",
        "---\n",
        "\n",
        "#### Function: `generate_text_simple(model, idx, max_new_tokens, context_size)`\n",
        "\n",
        "- **`model`**: The trained GPT model.\n",
        "- **`idx`**: Tensor containing the initial token sequence (shape: `(batch_size, seq_len)`).\n",
        "- **`max_new_tokens`**: Total number of new tokens to generate.\n",
        "- **`context_size`**: Maximum number of tokens from the past to consider for each prediction (sliding window).\n",
        "\n",
        "---\n",
        "\n",
        "#### Decoding Loop:\n",
        "\n",
        "For each step (token generation):\n",
        "\n",
        "1. **Context Truncation**:\n",
        "   - Extract only the last `context_size` tokens from `idx` to form `idx_cond`.\n",
        "   - This simulates the model’s fixed-length attention window.\n",
        "\n",
        "2. **Forward Pass** (no gradients):\n",
        "   - Pass `idx_cond` through the model to get `logits` of shape `(batch, seq_len, vocab_size)`.\n",
        "\n",
        "3. **Logit Selection**:\n",
        "   - Extract the last token's logits: `logits[:, -1, :]` → `(batch, vocab_size)`\n",
        "\n",
        "4. **Softmax and Greedy Selection**:\n",
        "   - Compute token probabilities using softmax.\n",
        "   - Use `argmax` to select the most likely next token.\n",
        "\n",
        "5. **Append Prediction**:\n",
        "   - Concatenate the predicted token to the input `idx` for the next iteration.\n",
        "\n",
        "---\n",
        "\n",
        "#### Notes:\n",
        "\n",
        "- **Greedy decoding** always picks the most probable next token, which makes it fast but can lead to repetitive or less diverse outputs.\n",
        "- Unlike sampling-based approaches, this method **lacks randomness** and exploration.\n",
        "\n",
        "---\n",
        "\n",
        "This function is simple and deterministic, making it ideal for testing how well the model performs in generating predictable sequences.\n"
      ],
      "metadata": {
        "id": "_df6HTKIktsW"
      }
    },
    {
      "cell_type": "code",
      "source": [
        "# Greedy decoding method for autoregressive text generation\n",
        "def generate_text_simple(model,idx,max_new_tokens,context_size):\n",
        "  for _ in range(max_new_tokens):\n",
        "    # to extract last context_size idx only\n",
        "    idx_cond=idx[:,-context_size:]\n",
        "\n",
        "     # Perform forward pass without tracking gradients\n",
        "    with torch.no_grad():\n",
        "      logits=model(idx_cond)                                #shape: (batch,num_tokens,vocab_size)\n",
        "\n",
        "    #extract last row from logit tensor\n",
        "    logits=logits[:,-1,:]                                   #shape: (batch,num_tokens,vocab_size) to (batch,vocab_size)\n",
        "\n",
        "    # Compute token probabilities using softmax\n",
        "    probas=torch.softmax(logits,dim=-1)\n",
        "    idx_next=torch.argmax(probas,dim=-1,keepdim=True)       # Select the most probable next token (greedy choice)  Shape: (batch_size, 1)\n",
        "    idx=torch.cat((idx,idx_next),dim=1)                     # Concatenate the predicted token to the input sequence (batch,num_token+1)\n",
        "\n",
        "  return idx"
      ],
      "metadata": {
        "id": "AUGhsqOGh5t4"
      },
      "execution_count": 190,
      "outputs": []
    },
    {
      "cell_type": "code",
      "source": [
        "pip install -q tiktoken"
      ],
      "metadata": {
        "id": "I_rs-kwfkBS-"
      },
      "execution_count": 191,
      "outputs": []
    },
    {
      "cell_type": "code",
      "source": [
        "import tiktoken\n",
        "tokenizer=tiktoken.get_encoding('gpt2')"
      ],
      "metadata": {
        "id": "ma5U_uAcjmpU"
      },
      "execution_count": 192,
      "outputs": []
    },
    {
      "cell_type": "code",
      "source": [
        "start_context='Hello, I am'\n",
        "encoded =tokenizer.encode(start_context)\n",
        "encoded_tensor=torch.tensor(encoded).unsqueeze(0)"
      ],
      "metadata": {
        "id": "Q5885j5yjcNv"
      },
      "execution_count": 193,
      "outputs": []
    },
    {
      "cell_type": "code",
      "source": [
        "model=GPTModel(GPT_CONFIG_124m)"
      ],
      "metadata": {
        "id": "rZZui1SdkTUe"
      },
      "execution_count": 194,
      "outputs": []
    },
    {
      "cell_type": "code",
      "source": [
        "model.eval()\n",
        "out=generate_text_simple(model=model,idx=encoded_tensor,max_new_tokens=6,context_size=GPT_CONFIG_124m['context_length'])\n",
        "decode_text=tokenizer.decode((out.squeeze(0).tolist()))\n",
        "decode_text\n"
      ],
      "metadata": {
        "colab": {
          "base_uri": "https://localhost:8080/",
          "height": 36
        },
        "id": "46aglZH4kG2G",
        "outputId": "94f477d7-d0a2-48df-dcf0-a3344bb98b89"
      },
      "execution_count": 195,
      "outputs": [
        {
          "output_type": "execute_result",
          "data": {
            "text/plain": [
              "'Hello, I am ostr ingenuityubes smell Education154'"
            ],
            "application/vnd.google.colaboratory.intrinsic+json": {
              "type": "string"
            }
          },
          "metadata": {},
          "execution_count": 195
        }
      ]
    },
    {
      "cell_type": "code",
      "source": [
        "with open('/content/the-verdict.txt','r',encoding='utf-8') as f:\n",
        "  text_data=f.read()"
      ],
      "metadata": {
        "id": "hlNkD4Xrm6r7"
      },
      "execution_count": 196,
      "outputs": []
    },
    {
      "cell_type": "code",
      "source": [
        "total_char=len(text_data)\n",
        "total_token=len(tokenizer.encode(text_data))\n",
        "print(f'Total characters: {total_char}')\n",
        "print(f'Total tokens: {total_token}')"
      ],
      "metadata": {
        "colab": {
          "base_uri": "https://localhost:8080/"
        },
        "id": "W9IQoOhUn4Q3",
        "outputId": "5e334d3e-3cde-44dd-9973-1b43789b2702"
      },
      "execution_count": 197,
      "outputs": [
        {
          "output_type": "stream",
          "name": "stdout",
          "text": [
            "Total characters: 20479\n",
            "Total tokens: 5145\n"
          ]
        }
      ]
    },
    {
      "cell_type": "markdown",
      "source": [
        "---\n",
        "### GPT Dataset for Autoregressive Language Modeling (Sliding Window)\n",
        "\n",
        "This section defines a custom PyTorch `Dataset` and a helper function to create a `DataLoader` for training GPT-style models. It prepares overlapping input-target token sequences using a sliding window approach.\n",
        "\n",
        "---\n",
        "\n",
        "#### `GPT_Dataset_v1` Class\n",
        "\n",
        "A dataset class for autoregressive next-token prediction.\n",
        "\n",
        "**Key Parameters:**\n",
        "- `txt`: The full input text.\n",
        "- `tokenizer`: A tokenizer (here, GPT-2 from `tiktoken`) that converts text into token IDs.\n",
        "- `max_length`: The number of tokens in each input sequence.\n",
        "- `stride`: The step size for the sliding window, controlling the amount of overlap between sequences.\n",
        "\n",
        "---\n",
        "\n",
        "#### Dataset Logic:\n",
        "\n",
        "1. **Tokenization**:\n",
        "   - The entire input text is tokenized once using the GPT-2 tokenizer, including special tokens like `<|endoftext|>`.\n",
        "\n",
        "2. **Sliding Window Sequence Creation**:\n",
        "   - For every step of `stride`, create:\n",
        "     - `input_chunk`: Sequence of `max_length` tokens.\n",
        "     - `target_chunk`: Same as input but shifted one position to the right.\n",
        "\n",
        "3. **Input-Target Pair**:\n",
        "   - Each input sequence is paired with a target sequence for predicting the next token at each position.\n",
        "\n",
        "4. **Return Format**:\n",
        "   - `__getitem__`: Returns a tuple `(input_ids, target_ids)` for training.\n",
        "\n",
        "---\n",
        "\n",
        "#### `create_dataloader_v1()` Function\n",
        "\n",
        "This helper function initializes the dataset and returns a PyTorch `DataLoader`.\n",
        "\n",
        "**Key Parameters:**\n",
        "- `txt`: Full training corpus.\n",
        "- `batch_size`: Number of sequences per batch.\n",
        "- `max_length`: Length of each token sequence.\n",
        "- `stride`: Overlap between consecutive sequences.\n",
        "- `shuffle`: Whether to shuffle the data at each epoch.\n",
        "- `drop_last`: Drop last batch if it's smaller than `batch_size`.\n",
        "- `num_workers`: Number of worker threads for loading data.\n",
        "\n",
        "---\n",
        "\n",
        "#### Why Use a Sliding Window?\n",
        "\n",
        "- Allows efficient utilization of long texts by generating multiple training samples.\n",
        "- Introduces overlap, improving model context and reducing training data sparsity.\n",
        "\n",
        "This approach is commonly used for **language modeling** tasks where the model learns to predict the next token given a context window.\n"
      ],
      "metadata": {
        "id": "ePoFsK_Hk7yG"
      }
    },
    {
      "cell_type": "code",
      "source": [
        "from torch.utils.data import Dataset,DataLoader\n",
        "\n",
        "# Dataset for autoregressive language modeling using a sliding window approach\n",
        "class GPT_Dataset_v1(Dataset):\n",
        "  def __init__(self,txt,tokenizer,max_length,stride):\n",
        "    self.input_ids=[]\n",
        "    self.target_ids=[]\n",
        "    #tokenize entire text\n",
        "    token_ids=tokenizer.encode(txt,allowed_special={'<|endoftext|>'})\n",
        "\n",
        "    #using sliciding window to chunk the txt into overlapping sequence of max_length\n",
        "    for i in range(0,len(token_ids)-max_length,stride):\n",
        "      input_chunk=token_ids[i : i+max_length]\n",
        "      target_chunk=token_ids[i+1 : i+max_length+1]\n",
        "      self.input_ids.append(torch.tensor(input_chunk))\n",
        "      self.target_ids.append(torch.tensor(target_chunk))\n",
        "\n",
        "  def __len__(self):\n",
        "    return len(self.input_ids)        # Return the number of sequence pairs\n",
        "\n",
        "  def __getitem__(self, index):\n",
        "    return self.input_ids[index],self.target_ids[index]     # Return input-target pair at the specified index\n",
        "\n",
        "#Creating DataLoader for LM training\n",
        "def create_dataloader_v1(txt,batch_size=4,max_length=256,stride=128,shuffle=True,drop_last=True,num_workers=0):\n",
        "  tokenizer=tiktoken.get_encoding('gpt2')                  # Load GPT-2 tokenizer\n",
        "  dataset=GPT_Dataset_v1(txt,tokenizer,max_length,stride)\n",
        "  # Create the DataLoader for batching and shuffling\n",
        "  dataloader=DataLoader(\n",
        "      dataset,\n",
        "      batch_size=batch_size,\n",
        "      shuffle=shuffle,\n",
        "      drop_last=drop_last,\n",
        "      num_workers=num_workers\n",
        "  )\n",
        "  return dataloader\n"
      ],
      "metadata": {
        "id": "zH4WqQj7oEC9"
      },
      "execution_count": 198,
      "outputs": []
    },
    {
      "cell_type": "code",
      "source": [
        "train_ratio=0.90\n",
        "split_idx=int(train_ratio * len(text_data))\n",
        "train_data=text_data[:split_idx]\n",
        "val_data=text_data[split_idx:]"
      ],
      "metadata": {
        "id": "bxfoSob1r7Kv"
      },
      "execution_count": 199,
      "outputs": []
    },
    {
      "cell_type": "code",
      "source": [
        "train_loader=create_dataloader_v1(\n",
        "    train_data,\n",
        "    batch_size=2,\n",
        "    max_length=GPT_CONFIG_124m['context_length'],\n",
        "    stride=GPT_CONFIG_124m['context_length'],\n",
        "    drop_last=True,\n",
        "    shuffle=True,\n",
        "    num_workers=0\n",
        ")\n",
        "\n",
        "val_loader=create_dataloader_v1(\n",
        "    val_data,\n",
        "    batch_size=2,\n",
        "    max_length=GPT_CONFIG_124m['context_length'],\n",
        "    stride=GPT_CONFIG_124m['context_length'],\n",
        "    drop_last=False,\n",
        "    shuffle=False,\n",
        "    num_workers=0\n",
        ")"
      ],
      "metadata": {
        "id": "Pp5Uhhc5tWId"
      },
      "execution_count": 200,
      "outputs": []
    },
    {
      "cell_type": "code",
      "source": [
        "print(\"val_loader length:\", len(val_loader))  # Should be > 0\n"
      ],
      "metadata": {
        "colab": {
          "base_uri": "https://localhost:8080/"
        },
        "id": "luzRAgjer8QJ",
        "outputId": "fde7dd85-0b78-4ff7-deff-73ab7d63c1a6"
      },
      "execution_count": 201,
      "outputs": [
        {
          "output_type": "stream",
          "name": "stdout",
          "text": [
            "val_loader length: 1\n"
          ]
        }
      ]
    },
    {
      "cell_type": "markdown",
      "source": [
        "### Cross-Entropy Loss Computation for Language Modeling\n",
        "\n",
        "This section defines utility functions to compute the **cross-entropy loss** for autoregressive language modeling using:\n",
        "\n",
        "1. `calc_loss_batch()` — Computes the loss for a **single batch**\n",
        "2. `calc_loss_loader()` — Computes the average loss across **multiple batches** in a `DataLoader`\n",
        "\n",
        "---\n",
        "\n",
        "#### `calc_loss_batch(input_batch, target_batch, model, device)`\n",
        "\n",
        "This function computes the **cross-entropy loss** between the model's predicted logits and the true next-token targets for a single batch.\n",
        "\n",
        "**Key Steps:**\n",
        "\n",
        "- Move inputs and targets to the specified device (CPU/GPU).\n",
        "- Perform a forward pass to get `logits` of shape `(batch_size, seq_len, vocab_size)`.\n",
        "- Flatten the logits and targets:\n",
        "  - `logits.flatten(0, 1)` → shape: `(batch_size * seq_len, vocab_size)`\n",
        "  - `target_batch.flatten()` → shape: `(batch_size * seq_len)`\n",
        "- Apply `F.cross_entropy()` to compute token-wise classification loss.\n",
        "\n",
        "---\n",
        "\n",
        "#### `calc_loss_loader(data_loader, model, device, num_batches=None)`\n",
        "\n",
        "Computes the **average cross-entropy loss** over a number of batches drawn from a `DataLoader`.\n",
        "\n",
        "**Key Logic:**\n",
        "\n",
        "- If `num_batches` is not specified, evaluate on the entire dataset.\n",
        "- Otherwise, limit to `min(num_batches, len(data_loader))`.\n",
        "- For each batch:\n",
        "  - Use `calc_loss_batch()` to compute the loss.\n",
        "  - Accumulate total loss.\n",
        "- Return the **mean loss** across the evaluated batches.\n",
        "\n",
        "---\n",
        "\n",
        "#### Notes:\n",
        "\n",
        "- This setup is ideal for:\n",
        "  - Evaluating training or validation loss.\n",
        "  - Monitoring model performance during training.\n",
        "- The cross-entropy loss assumes logits are **unnormalized** scores and automatically applies `log_softmax`.\n",
        "\n",
        "---\n",
        "\n",
        "These utilities allow flexible and efficient evaluation of your model on both full datasets and selected subsets.\n"
      ],
      "metadata": {
        "id": "rmoOAhl4lPJo"
      }
    },
    {
      "cell_type": "code",
      "source": [
        "# Computes cross-entropy loss for a single batch\n",
        "def calc_loss_batch(input_batch,target_batch,model,device):\n",
        "  input_batch,target_batch=input_batch.to(device),target_batch.to(device)\n",
        "\n",
        "  logits=model(input_batch)         # Perform forward pass to get predicted logits | Shape: (batch_size, seq_len, vocab_size)\n",
        "\n",
        "  logits = torch.nan_to_num(logits, nan=0.0, posinf=0.0, neginf=0.0)#####\n",
        "  # Flatten predictions and targets for loss calculation\n",
        "  loss=torch.nn.functional.cross_entropy(\n",
        "      logits.flatten(0,1),          # Reshape to (batch_size * seq_len, vocab_size)\n",
        "      target_batch.flatten()        # Reshape to (batch_size * seq_len)\n",
        "  )\n",
        "  return loss\n",
        "\n",
        "\n",
        "# Computes average loss across multiple batches from a DataLoader\n",
        "def calc_loss_loader(data_loader,model,device,num_batches=None):\n",
        "  total_loss=0.\n",
        "\n",
        "  # Handle empty DataLoader\n",
        "  if len(data_loader)==0:\n",
        "    return float('nan')\n",
        "  elif num_batches is None:     # Determine number of batches to evaluate\n",
        "    num_batches=len(data_loader)\n",
        "  else:\n",
        "    num_batches=min(num_batches,len(data_loader))\n",
        "\n",
        "\n",
        "  # Iterate over the DataLoader and compute batch-wise loss\n",
        "  for i,(input_batch,target_batch) in enumerate(data_loader):\n",
        "    if i<num_batches:\n",
        "      loss=calc_loss_batch(input_batch,target_batch,model,device)\n",
        "      total_loss+=loss.item()\n",
        "    else:\n",
        "      break\n",
        "  return total_loss/num_batches         # Return mean loss over the evaluated batches"
      ],
      "metadata": {
        "id": "1x9T8zk5uJq5"
      },
      "execution_count": 202,
      "outputs": []
    },
    {
      "cell_type": "code",
      "source": [
        "device=torch.device('cuda' if torch.cuda.is_available() else 'cpu')\n",
        "model.to(device)\n",
        "\n",
        "with torch.no_grad():\n",
        "  train_loss=calc_loss_loader(train_loader,model,device)\n",
        "  val_loss=calc_loss_loader(val_loader,model,device)\n",
        "\n",
        "print('training loss: ',train_loss)\n",
        "print('validation loss: ',val_loss)"
      ],
      "metadata": {
        "colab": {
          "base_uri": "https://localhost:8080/"
        },
        "id": "YMPVHbTDxyil",
        "outputId": "bafcc40a-c1ad-4f8c-fd75-56af18fd6756"
      },
      "execution_count": 203,
      "outputs": [
        {
          "output_type": "stream",
          "name": "stdout",
          "text": [
            "training loss:  10.985039710998535\n",
            "validation loss:  10.943317413330078\n"
          ]
        }
      ]
    },
    {
      "cell_type": "markdown",
      "source": [
        "### Model Evaluation on Training and Validation Sets\n",
        "\n",
        "This function evaluates the model's performance by computing the **average cross-entropy loss** over a fixed number of batches from both the training and validation DataLoaders.\n",
        "\n",
        "---\n",
        "\n",
        "#### Function: `evaluate_model(model, train_loader, val_loader, device, eval_iter)`\n",
        "\n",
        "**Purpose**:  \n",
        "To periodically assess the model's performance during training by calculating the mean loss on:\n",
        "\n",
        "- A subset of the training data\n",
        "- A subset of the validation data\n",
        "\n",
        "---\n",
        "\n",
        "#### Key Steps:\n",
        "\n",
        "1. **Evaluation Mode**:\n",
        "   - `model.eval()` sets the model to evaluation mode, which:\n",
        "     - Disables dropout layers\n",
        "     - Uses running statistics in normalization layers (e.g., LayerNorm)\n",
        "\n",
        "2. **Disable Gradient Tracking**:\n",
        "   - `with torch.no_grad()` ensures no gradients are computed, saving memory and speeding up inference.\n",
        "\n",
        "3. **Compute Loss**:\n",
        "   - `calc_loss_loader(...)` is called separately on the training and validation loaders.\n",
        "   - Only the first `eval_iter` batches are evaluated (useful for fast and frequent evaluations).\n",
        "\n",
        "4. **Return to Training Mode**:\n",
        "   - `model.train()` restores training behavior (e.g., enables dropout) after evaluation.\n",
        "\n",
        "---\n",
        "\n",
        "#### Returns:\n",
        "\n",
        "- `train_loss`: Mean loss over `eval_iter` training batches\n",
        "- `val_loss`: Mean loss over `eval_iter` validation batches\n",
        "\n",
        "---\n",
        "\n",
        "#### Use Case:\n",
        "\n",
        "- Can be called at regular intervals (e.g., every few epochs or steps) to monitor:\n",
        "  - Model convergence on training data\n",
        "  - Generalization to unseen validation data\n",
        "\n",
        "This enables you to detect **overfitting** or **underfitting** early during training.\n"
      ],
      "metadata": {
        "id": "9QkzJxd4lbnM"
      }
    },
    {
      "cell_type": "code",
      "source": [
        "# Evaluates the model on both training and validation data over a fixed number of batches\n",
        "def evaluate_model(model,train_loader,val_loader,device,eval_iter):\n",
        "  model.eval()            # Set the model to evaluation mode (disables dropout, uses running stats in norms)\n",
        "\n",
        "  # Disable gradient computation for efficient evaluation\n",
        "  with torch.no_grad():\n",
        "    train_loss=calc_loss_loader(train_loader,model,device,num_batches=eval_iter)      # Compute average loss over a subset of training data\n",
        "    val_loss=calc_loss_loader(val_loader,model,device,num_batches=eval_iter)          # Compute average loss over a subset of validation data\n",
        "\n",
        "  model.train()   # Return model to training mode after evaluation\n",
        "  return train_loss,val_loss"
      ],
      "metadata": {
        "id": "Z4535wPGzBrw"
      },
      "execution_count": 204,
      "outputs": []
    },
    {
      "cell_type": "markdown",
      "source": [
        "### Text–Token Conversion Utilities\n",
        "\n",
        "These helper functions convert between **raw text** and **token ID tensors** for GPT-style language models using the GPT-2 tokenizer.\n",
        "\n",
        "---\n",
        "\n",
        "#### `text_to_token_ids(text, tokenizer)`\n",
        "\n",
        "**Purpose**:  \n",
        "Converts a raw input string into a **token ID tensor** with an added batch dimension.\n",
        "\n",
        "**Steps**:\n",
        "- Tokenize the input text using the specified tokenizer (e.g., `tiktoken` for GPT-2).\n",
        "- `allowed_special={'<|endoftext|>'}` ensures that special tokens like `<|endoftext|>` are correctly recognized.\n",
        "- Convert the list of token IDs to a PyTorch tensor.\n",
        "- Add a **batch dimension** via `unsqueeze(0)` → shape becomes `(1, seq_len)`.\n",
        "\n",
        "**Use Case**:\n",
        "Used for preparing raw text inputs to be passed into the model during generation or evaluation.\n",
        "\n",
        "---\n",
        "\n",
        "#### `token_ids_to_text(token_ids, tokenizer)`\n",
        "\n",
        "**Purpose**:  \n",
        "Converts a token ID tensor back into a human-readable text string.\n",
        "\n",
        "**Steps**:\n",
        "- Assumes the input is a batch of token sequences.\n",
        "- Removes the batch dimension using `squeeze(0)`.\n",
        "- Converts the token ID list to a string using the tokenizer’s `decode()` method.\n",
        "\n",
        "**Use Case**:\n",
        "Used to convert model outputs (token predictions) back into readable text.\n",
        "\n",
        "---\n",
        "\n",
        "These functions help in the preprocessing and postprocessing pipeline of a text generation system.\n"
      ],
      "metadata": {
        "id": "FPE5f7sllm2x"
      }
    },
    {
      "cell_type": "code",
      "source": [
        "# Converts input text to a token ID tensor with batch dimension\n",
        "def text_to_token_ids(text, tokenizer):\n",
        "    encoded = tokenizer.encode(text, allowed_special={'<|endoftext|>'})       # Tokenize input text\n",
        "    encoded_tensor = torch.tensor(encoded).unsqueeze(0)                       # add batch dimension\n",
        "    return encoded_tensor\n",
        "\n",
        "# Converts a batch of token IDs back to text (assumes batch size = 1)\n",
        "def token_ids_to_text(token_ids, tokenizer):\n",
        "    flat = token_ids.squeeze(0) # remove batch dimension\n",
        "    return tokenizer.decode(flat.tolist())"
      ],
      "metadata": {
        "id": "ad7BazTxAMt3"
      },
      "execution_count": 205,
      "outputs": []
    },
    {
      "cell_type": "markdown",
      "source": [
        "### Prompt-Based Text Generation and Display\n",
        "\n",
        "This function takes a **text prompt**, feeds it to a trained GPT model, and prints the **generated continuation**. It wraps the full pipeline: tokenization → generation → decoding.\n",
        "\n",
        "---\n",
        "\n",
        "#### Function: `generate_and_print_sample(model, tokenizer, device, start_context)`\n",
        "\n",
        "**Purpose**:  \n",
        "To demonstrate text generation by producing and printing a continuation from a user-provided input prompt.\n",
        "\n",
        "---\n",
        "\n",
        "#### Workflow:\n",
        "\n",
        "1. **Model Evaluation Mode**:\n",
        "   - `model.eval()` disables dropout and other training-time behaviors to ensure consistent generation.\n",
        "\n",
        "2. **Determine Context Length**:\n",
        "   - Extract `context_size` from the positional embedding table: `model.pos_emb.weight.shape[0]`.\n",
        "\n",
        "3. **Tokenize Input**:\n",
        "   - Convert the `start_context` (prompt string) to token IDs with a batch dimension.\n",
        "   - Move the tensor to the appropriate device (CPU/GPU).\n",
        "\n",
        "4. **Generate Text**:\n",
        "   - Use `generate_text_simple(...)` to predict up to 50 new tokens in a greedy, autoregressive fashion.\n",
        "\n",
        "5. **Decode Output**:\n",
        "   - Convert the resulting token IDs back to human-readable text using the tokenizer.\n",
        "\n",
        "6. **Clean & Print**:\n",
        "   - Replace newline characters for cleaner output formatting.\n",
        "   - Print the complete generated text.\n",
        "\n",
        "7. **Return to Training Mode**:\n",
        "   - `model.train()` ensures the model continues training-ready after sample generation.\n",
        "\n",
        "\n"
      ],
      "metadata": {
        "id": "3tVDW0Ncl0OU"
      }
    },
    {
      "cell_type": "code",
      "source": [
        "# Generates a continuation from a text prompt using the model and prints the decoded output\n",
        "def generate_and_print_sample(model,tokenizer,device,start_context):\n",
        "  model.eval()\n",
        "  context_size=model.pos_emb.weight.shape[0]                        # Determine the maximum context length from the positional embedding matrix\n",
        "  encoded=text_to_token_ids(start_context,tokenizer).to(device)     # Tokenize the input prompt and move to the specified device\n",
        "  with torch.no_grad():\n",
        "    # Generate new tokens starting from the input prompt\n",
        "    token_ids=generate_text_simple(\n",
        "        model=model,\n",
        "        idx=encoded,\n",
        "        max_new_tokens=50,\n",
        "        context_size=context_size\n",
        "    )\n",
        "\n",
        "    # Convert generated token IDs back to text\n",
        "    decoded_text=token_ids_to_text(token_ids,tokenizer)\n",
        "    print(decoded_text.replace('\\n',' '))\n",
        "    model.train()"
      ],
      "metadata": {
        "id": "cw-FWijo-xog"
      },
      "execution_count": 206,
      "outputs": []
    },
    {
      "cell_type": "markdown",
      "source": [
        "### Simple Training Loop for GPT Model\n",
        "\n",
        "This function defines a minimal training loop for a GPT-style model using a standard approach: forward pass → loss computation → backward pass → optimizer step. It also includes periodic evaluation and sample generation.\n",
        "\n",
        "---\n",
        "\n",
        "#### Function: `train_model_simple(...)`\n",
        "\n",
        "**Inputs:**\n",
        "\n",
        "- `model`: The GPT model to train.\n",
        "- `train_loader`: DataLoader for training data.\n",
        "- `val_loader`: DataLoader for validation data.\n",
        "- `optimizer`: Optimizer (e.g., AdamW) for updating model weights.\n",
        "- `device`: `'cuda'` or `'cpu'`, depending on training hardware.\n",
        "- `num_epochs`: Total number of epochs to train.\n",
        "- `eval_freq`: Evaluate model after this many steps.\n",
        "- `eval_iter`: Number of batches used for evaluation.\n",
        "- `start_context`: Initial text prompt for generating a sample.\n",
        "- `tokenizer`: Tokenizer for converting between text and token IDs.\n",
        "\n",
        "---\n",
        "\n",
        "#### Training Loop Breakdown:\n",
        "\n",
        "1. **Initialize Tracking Lists**:\n",
        "   - `train_losses`, `val_losses`: Stores average loss values at each evaluation step.\n",
        "   - `track_tokens_seen`: Tracks how many tokens have been processed.\n",
        "\n",
        "2. **Outer Loop (Epochs)**:\n",
        "   - Loops through training data multiple times.\n",
        "\n",
        "3. **Inner Loop (Batches)**:\n",
        "   - For each batch:\n",
        "     - Zero the optimizer's gradient buffers.\n",
        "     - Compute the loss using `calc_loss_batch()`.\n",
        "     - Backpropagate and update weights.\n",
        "\n",
        "4. **Token Tracking**:\n",
        "   - `tokens_seen += input_batch.numel()` counts the number of tokens processed (for x-axis plotting or tracking training progress).\n",
        "\n",
        "5. **Periodic Evaluation**:\n",
        "   - Every `eval_freq` steps:\n",
        "     - Evaluate average training and validation loss using `evaluate_model()`.\n",
        "     - Store the results for later plotting.\n",
        "     - Print progress summary.\n",
        "\n",
        "6. **Text Generation**:\n",
        "   - After each epoch, generate a text sample from the current model using `generate_and_print_sample()`.\n",
        "\n",
        "7. **Final Output**:\n",
        "   - Returns:\n",
        "     - `train_losses`: List of training losses over time\n",
        "     - `val_losses`: List of validation losses over time\n",
        "     - `track_tokens_seen`: List of how many tokens were seen at each evaluation\n",
        "\n"
      ],
      "metadata": {
        "id": "9AJFIpEamCKO"
      }
    },
    {
      "cell_type": "code",
      "source": [
        "def train_model_simple(model,train_loader,val_loader,optimizer,device,num_epochs,eval_freq,eval_iter,start_context,tokenizer):\n",
        "  train_losses,val_losses,track_tokens_seen=[],[],[]\n",
        "  tokens_seen,global_step=0,-1\n",
        "\n",
        "  for i in range(num_epochs):\n",
        "    model.train() #set model to training mode\n",
        "    for input_batch,target_batch in train_loader:\n",
        "      optimizer.zero_grad() #reset loss gradient from previous batch iteration\n",
        "      loss=calc_loss_batch(input_batch,target_batch,model,device)\n",
        "      loss.backward() #calculate loss gradient\n",
        "      optimizer.step() #update model weights using loss gradients\n",
        "\n",
        "      # Increment tokens_seen before checking the eval_freq condition\n",
        "      tokens_seen += input_batch.numel() # total num of tokens\n",
        "      global_step+=1\n",
        "\n",
        "      if global_step%eval_freq==0:\n",
        "        train_loss,val_loss=evaluate_model(model,train_loader,val_loader,device,eval_iter)\n",
        "        train_losses.append(train_loss)\n",
        "        val_losses.append(val_loss)\n",
        "        track_tokens_seen.append(tokens_seen)\n",
        "        print(f'Epoch {i+1} (Step {global_step:06d}): Train loss: {train_loss:.3f} val loss: {val_loss:.3f}')\n",
        "\n",
        "\n",
        "    generate_and_print_sample(model,tokenizer,device,start_context)\n",
        "  # Added return statement to fix the error. The function should return the accumulated losses and the number of tokens seen.\n",
        "  return train_losses, val_losses, track_tokens_seen"
      ],
      "metadata": {
        "id": "BC9VOE2W_6EK"
      },
      "execution_count": 207,
      "outputs": []
    },
    {
      "cell_type": "markdown",
      "source": [
        "### Training GPT Model on Custom Dataset (124M Config)\n",
        "\n",
        "This script trains a GPT-style language model using a simplified training loop. The model is configured with 124 million parameters and trained on tokenized text data with periodic evaluation and sample generation.\n",
        "\n",
        "---\n",
        "\n",
        "#### Configuration Summary\n",
        "\n",
        "- **Model Size**: 124M parameters\n",
        "- **Context Length**: 1024 tokens\n",
        "- **Embedding Dim**: 768\n",
        "- **Layers / Heads**: 12 layers, 12 heads\n",
        "- **Dropout**: 0.1\n",
        "- **Batch Size**: 2\n",
        "- **Learning Rate**: 0.0004\n",
        "- **Weight Decay**: 0.1\n",
        "- **Epochs**: 10\n",
        "- **Evaluation Frequency**: every 5 steps\n",
        "\n",
        "---\n",
        "\n",
        "#### Results Snapshot\n",
        "\n",
        "- **Initial Losses**:  \n",
        "  - Epoch 1: Train loss = 9.72, Val loss = 10.16  \n",
        "  - Quickly drops to ~3.13 train loss by Epoch 7\n",
        "\n",
        "- **Best Generated Samples**:\n",
        "  - Epoch 2: `Every effort moves you the the, and the the, the, and, the the the.`\n",
        "  - Epoch 5: `Every effort moves you know, I had been, I had been to me--as...`\n",
        "  - Epoch 10: `Every effort moves you?\" I turned back to my work, and in fact...`\n",
        "\n",
        "- **Final Validation Loss**: ~6.34  \n",
        "- **Total Training Time**: ~0.62 minutes\n",
        "\n",
        "---\n",
        "\n",
        "#### Highlights\n",
        "\n",
        "- Model rapidly learns basic syntax and repetition.\n",
        "- Gradual semantic improvement across epochs.\n",
        "- Sample generation reflects typical autoregressive learning patterns (repetition → coherence).\n"
      ],
      "metadata": {
        "id": "3bOjqaLDuGKr"
      }
    },
    {
      "cell_type": "code",
      "source": [
        "import time\n",
        "start_time=time.time()\n",
        "\n",
        "model=GPTModel(GPT_CONFIG_124m)\n",
        "model.to(device)\n",
        "optimizer=torch.optim.AdamW(model.parameters(),lr=0.0004,weight_decay=0.1)\n",
        "#optimizer = torch.optim.AdamW(model.parameters(), lr=5e-5, weight_decay=0.1)\n",
        "\n",
        "num_epochs=10\n",
        "train_losses,val_losses,token_seen=train_model_simple(model,train_loader,val_loader,optimizer,device,num_epochs=num_epochs,eval_freq=5,eval_iter=5,start_context='Every effort moves you',tokenizer=tokenizer)\n",
        "end_time=time.time()\n",
        "print(f'Total time taken: {(end_time-start_time)/60:.2f} in Minutes')"
      ],
      "metadata": {
        "colab": {
          "base_uri": "https://localhost:8080/"
        },
        "id": "v3WcRIYqFJYf",
        "outputId": "d0642c4a-76c7-4645-84a0-da5cd2bb155c"
      },
      "execution_count": 208,
      "outputs": [
        {
          "output_type": "stream",
          "name": "stdout",
          "text": [
            "Epoch 1 (Step 000000): Train loss: 9.722 val loss: 10.162\n",
            "Epoch 1 (Step 000005): Train loss: 8.050 val loss: 8.338\n",
            "Every effort moves you                                                  \n",
            "Epoch 2 (Step 000010): Train loss: 6.757 val loss: 7.124\n",
            "Epoch 2 (Step 000015): Train loss: 6.043 val loss: 6.610\n",
            "Every effort moves you the the, and the the, the, and, the the the.                                   \n",
            "Epoch 3 (Step 000020): Train loss: 5.782 val loss: 6.497\n",
            "Epoch 3 (Step 000025): Train loss: 5.656 val loss: 6.512\n",
            "Every effort moves you\"I, and I, and his his his, and his the, and, and his I, and the I had the of the, and I had the, and, and I, and I, the, and of the, and,\n",
            "Epoch 4 (Step 000030): Train loss: 5.615 val loss: 6.561\n",
            "Epoch 4 (Step 000035): Train loss: 5.119 val loss: 6.444\n",
            "Every effort moves you I had, and I had that, and I had I had the had the had that he had had the had been I had the had the had had the had that he had the had the had had the had the had the had the had the\n",
            "Epoch 5 (Step 000040): Train loss: 4.784 val loss: 6.389\n",
            "Every effort moves you know, I had been, I had been to me--as, I had been to me--as, I had been to the picture.      \". \"--as the, I had been, I had been\n",
            "Epoch 6 (Step 000045): Train loss: 4.100 val loss: 6.282\n",
            "Epoch 6 (Step 000050): Train loss: 3.865 val loss: 6.243\n",
            "Every effort moves you know through, and in the picture.                                          \n",
            "Epoch 7 (Step 000055): Train loss: 3.608 val loss: 6.193\n",
            "Epoch 7 (Step 000060): Train loss: 3.134 val loss: 6.159\n",
            "Every effort moves you?\"  \"I didn't--I didn't--as, and in the house, and in the picture, I had to see, I had been his pictures--his.     \"I turned, and he was his\n",
            "Epoch 8 (Step 000065): Train loss: 2.587 val loss: 6.246\n",
            "Epoch 8 (Step 000070): Train loss: 2.276 val loss: 6.228\n",
            "Every effort moves you?\"            \"I turned back to my work, and in the fact, and in the house, and I felt to have him--I had longed to say: \"Be dissatisfied with your\n",
            "Epoch 9 (Step 000075): Train loss: 2.010 val loss: 6.241\n",
            "Epoch 9 (Step 000080): Train loss: 1.484 val loss: 6.260\n",
            "Every effort moves you?\"                                                 \n",
            "Epoch 10 (Step 000085): Train loss: 1.100 val loss: 6.341\n",
            "Every effort moves you?\"            \"I turned back to my work, and in fact, I had been taken.                    \n",
            "Total time taken: 0.62 in Minutes\n"
          ]
        }
      ]
    },
    {
      "cell_type": "markdown",
      "source": [
        "### Advanced Text Generation with Temperature and Top-k Sampling\n",
        "\n",
        "This function generates tokens from a trained GPT model using advanced decoding strategies like temperature scaling, top-k sampling, and early stopping with an end-of-sequence token.\n",
        "\n",
        "---\n",
        "\n",
        "#### Function: `generate(...)`\n",
        "\n",
        "**Inputs:**\n",
        "\n",
        "- `model`: Trained GPT model.\n",
        "- `idx`: Input token IDs (shape: `(batch_size, sequence_length)`).\n",
        "- `max_new_tokens`: Maximum number of new tokens to generate.\n",
        "- `context_size`: Maximum number of recent tokens the model should consider.\n",
        "- `temperature`: Controls randomness. Higher = more diverse output. `0.0` = greedy.\n",
        "- `top_k`: If set, only the top-k most probable tokens are considered for sampling.\n",
        "- `eos_id`: Optional end-of-sequence token ID to stop generation early.\n",
        "\n",
        "---\n",
        "\n",
        "#### Decoding Breakdown:\n",
        "\n",
        "1. **Context Truncation**  \n",
        "   Only the last `context_size` tokens are used as input to the model for each generation step.\n",
        "\n",
        "2. **Logit Prediction**  \n",
        "   The model predicts the next-token logits. Only the logits for the last position are used.\n",
        "\n",
        "3. **Top-k Filtering (Optional)**  \n",
        "   If `top_k` is set, filter logits to retain only the top-k tokens and mask the rest with `-inf`.\n",
        "\n",
        "4. **Temperature Scaling (Optional)**  \n",
        "   If `temperature > 0`, divide logits by temperature before applying softmax and sample from the resulting distribution.\n",
        "\n",
        "5. **Greedy Decoding (Default)**  \n",
        "   If `temperature == 0`, use `argmax` to select the most likely token.\n",
        "\n",
        "6. **Early Stopping (Optional)**  \n",
        "   If `eos_id` is set and the generated token matches it, stop generation early.\n",
        "\n",
        "7. **Token Appending**  \n",
        "   Concatenate the new token to the running input sequence and repeat.\n"
      ],
      "metadata": {
        "id": "43Ok8odGt7wo"
      }
    },
    {
      "cell_type": "code",
      "source": [
        "#Advanced decoding with temperature and top-k sampling\n",
        "def generate(model, idx, max_new_tokens, context_size, temperature=0.0, top_k=None, eos_id=None):\n",
        "\n",
        "    # For-loop is the same as before: Get logits, and only focus on last time step\n",
        "    for _ in range(max_new_tokens):\n",
        "        idx_cond = idx[:, -context_size:]\n",
        "        with torch.no_grad():\n",
        "            logits = model(idx_cond)\n",
        "        logits = logits[:, -1, :]\n",
        "\n",
        "        # New: Filter logits with top_k sampling\n",
        "        if top_k is not None:\n",
        "            # Keep only top_k values\n",
        "            top_logits, _ = torch.topk(logits, top_k)\n",
        "            min_val = top_logits[:, -1]\n",
        "            logits = torch.where(logits < min_val, torch.tensor(float(\"-inf\")).to(logits.device), logits)\n",
        "\n",
        "        # New: Apply temperature scaling\n",
        "        if temperature > 0.0:\n",
        "            logits = logits / temperature\n",
        "\n",
        "            # Apply softmax to get probabilities\n",
        "            probs = torch.softmax(logits, dim=-1)  # (batch_size, context_len)\n",
        "\n",
        "            # Sample from the distribution\n",
        "            idx_next = torch.multinomial(probs, num_samples=1)  # (batch_size, 1)\n",
        "\n",
        "        # Otherwise same as before: get idx of the vocab entry with the highest logits value\n",
        "        else:\n",
        "            idx_next = torch.argmax(logits, dim=-1, keepdim=True)  # (batch_size, 1)\n",
        "\n",
        "        if idx_next == eos_id:  # Stop generating early if end-of-sequence token is encountered and eos_id is specified\n",
        "            break\n",
        "\n",
        "        # Same as before: append sampled index to the running sequence\n",
        "        idx = torch.cat((idx, idx_next), dim=1)  # (batch_size, num_tokens+1)\n",
        "\n",
        "    return idx"
      ],
      "metadata": {
        "id": "yonaQ7OwuG9N"
      },
      "execution_count": 180,
      "outputs": []
    },
    {
      "cell_type": "code",
      "source": [
        "torch.manual_seed(123)\n",
        "\n",
        "token_ids = generate(\n",
        "    model=model,\n",
        "    idx=text_to_token_ids('every effort moves you', tokenizer).to(device),\n",
        "    max_new_tokens=15,\n",
        "    context_size=GPT_CONFIG_124m['context_length'],\n",
        "    top_k=25,\n",
        "    temperature=1.4\n",
        ")\n",
        "print(token_ids_to_text(token_ids,tokenizer))"
      ],
      "metadata": {
        "colab": {
          "base_uri": "https://localhost:8080/"
        },
        "id": "lLUdlU0nMShP",
        "outputId": "a0755cdc-9fab-4ae9-e271-46947dbd9c69"
      },
      "execution_count": 30,
      "outputs": [
        {
          "output_type": "stream",
          "name": "stdout",
          "text": [
            "every effort moves you was \" not his pictures-- was a thought with a dep for--'s\n"
          ]
        }
      ]
    },
    {
      "cell_type": "markdown",
      "source": [
        "### Saving Model and Optimizer Checkpoint\n",
        "\n",
        "After training, it's important to save both the model's parameters and the optimizer's state to resume training or perform evaluation later.\n"
      ],
      "metadata": {
        "id": "Qj9ansTauX0J"
      }
    },
    {
      "cell_type": "code",
      "source": [
        "optimizer = torch.optim.AdamW(model.parameters(), lr=0.0004, weight_decay=0.1)\n",
        "#optimizer = torch.optim.AdamW(model.parameters(), lr=5e-5, weight_decay=0.1)\n",
        "torch.save({\n",
        "    'model_state_dict':model.state_dict(),\n",
        "    'optimizer_state_dict':optimizer.state_dict(),\n",
        "    },\n",
        "    'model_and_optimizer.pth')"
      ],
      "metadata": {
        "id": "0KFftBjQNlsb"
      },
      "execution_count": 209,
      "outputs": []
    },
    {
      "cell_type": "markdown",
      "source": [
        "\n",
        "### Loading Model and Optimizer from Checkpoint\n",
        "\n",
        "Use this snippet to restore a previously saved GPT model and its optimizer state from a `.pth` checkpoint file.\n"
      ],
      "metadata": {
        "id": "PtEWxBNDuf8g"
      }
    },
    {
      "cell_type": "code",
      "source": [
        "# Load checkpoint\n",
        "checkpoint=torch.load('/content/model_and_optimizer.pth')\n",
        "\n",
        "# Recreate model and load weights\n",
        "model=GPTModel(GPT_CONFIG_124m)\n",
        "model.load_state_dict(checkpoint['model_state_dict'])\n",
        "\n",
        "# Recreate optimizer and load state\n",
        "optimizer=torch.optim.AdamW(model.parameters(), lr=5e-4, weight_decay=0.1)\n",
        "optimizer.load_state_dict(checkpoint['optimizer_state_dict'])\n",
        "\n",
        "# Set model to training mode\n",
        "model.train();"
      ],
      "metadata": {
        "id": "7x8kNV8DQVnl"
      },
      "execution_count": 210,
      "outputs": []
    },
    {
      "cell_type": "markdown",
      "source": [
        "LOADING PRETRAINED WEIGHTS FROM OPENAI\n"
      ],
      "metadata": {
        "id": "UR7hmta5yvha"
      }
    },
    {
      "cell_type": "code",
      "source": [
        "from gpt_download3 import download_and_load_gpt2"
      ],
      "metadata": {
        "id": "0UQNKI8SRHkM"
      },
      "execution_count": 211,
      "outputs": []
    },
    {
      "cell_type": "code",
      "source": [
        "settings, params = download_and_load_gpt2(model_size=\"124M\", models_dir=\"gpt2\")"
      ],
      "metadata": {
        "colab": {
          "base_uri": "https://localhost:8080/"
        },
        "id": "Sw9EoS5by1W7",
        "outputId": "27e75cf4-8196-4370-da28-c1b5029a0e8f"
      },
      "execution_count": 212,
      "outputs": [
        {
          "output_type": "stream",
          "name": "stderr",
          "text": [
            "/usr/local/lib/python3.11/dist-packages/urllib3/connectionpool.py:1097: InsecureRequestWarning: Unverified HTTPS request is being made to host 'openaipublic.blob.core.windows.net'. Adding certificate verification is strongly advised. See: https://urllib3.readthedocs.io/en/latest/advanced-usage.html#tls-warnings\n",
            "  warnings.warn(\n",
            "checkpoint: 100%|██████████| 77.0/77.0 [00:00<00:00, 178kiB/s]\n",
            "/usr/local/lib/python3.11/dist-packages/urllib3/connectionpool.py:1097: InsecureRequestWarning: Unverified HTTPS request is being made to host 'openaipublic.blob.core.windows.net'. Adding certificate verification is strongly advised. See: https://urllib3.readthedocs.io/en/latest/advanced-usage.html#tls-warnings\n",
            "  warnings.warn(\n",
            "encoder.json: 100%|██████████| 1.04M/1.04M [00:01<00:00, 572kiB/s]\n",
            "/usr/local/lib/python3.11/dist-packages/urllib3/connectionpool.py:1097: InsecureRequestWarning: Unverified HTTPS request is being made to host 'openaipublic.blob.core.windows.net'. Adding certificate verification is strongly advised. See: https://urllib3.readthedocs.io/en/latest/advanced-usage.html#tls-warnings\n",
            "  warnings.warn(\n",
            "hparams.json: 100%|██████████| 90.0/90.0 [00:00<00:00, 144kiB/s]\n",
            "/usr/local/lib/python3.11/dist-packages/urllib3/connectionpool.py:1097: InsecureRequestWarning: Unverified HTTPS request is being made to host 'openaipublic.blob.core.windows.net'. Adding certificate verification is strongly advised. See: https://urllib3.readthedocs.io/en/latest/advanced-usage.html#tls-warnings\n",
            "  warnings.warn(\n",
            "model.ckpt.data-00000-of-00001: 100%|██████████| 498M/498M [02:36<00:00, 3.18MiB/s]\n",
            "/usr/local/lib/python3.11/dist-packages/urllib3/connectionpool.py:1097: InsecureRequestWarning: Unverified HTTPS request is being made to host 'openaipublic.blob.core.windows.net'. Adding certificate verification is strongly advised. See: https://urllib3.readthedocs.io/en/latest/advanced-usage.html#tls-warnings\n",
            "  warnings.warn(\n",
            "model.ckpt.index: 100%|██████████| 5.21k/5.21k [00:00<00:00, 9.35MiB/s]\n",
            "/usr/local/lib/python3.11/dist-packages/urllib3/connectionpool.py:1097: InsecureRequestWarning: Unverified HTTPS request is being made to host 'openaipublic.blob.core.windows.net'. Adding certificate verification is strongly advised. See: https://urllib3.readthedocs.io/en/latest/advanced-usage.html#tls-warnings\n",
            "  warnings.warn(\n",
            "model.ckpt.meta: 100%|██████████| 471k/471k [00:01<00:00, 387kiB/s]\n",
            "/usr/local/lib/python3.11/dist-packages/urllib3/connectionpool.py:1097: InsecureRequestWarning: Unverified HTTPS request is being made to host 'openaipublic.blob.core.windows.net'. Adding certificate verification is strongly advised. See: https://urllib3.readthedocs.io/en/latest/advanced-usage.html#tls-warnings\n",
            "  warnings.warn(\n",
            "vocab.bpe: 100%|██████████| 456k/456k [00:01<00:00, 373kiB/s]\n"
          ]
        }
      ]
    },
    {
      "cell_type": "markdown",
      "source": [
        "### Dynamic GPT Model Configuration Setup\n",
        "\n",
        "This snippet enables flexible model creation by defining various GPT model sizes using a centralized configuration dictionary.\n",
        "\n",
        "---\n",
        "\n",
        "#### Purpose\n",
        "\n",
        "To easily switch between different GPT model sizes (small to XL) by:\n",
        "- Keeping a base configuration (`GPT_CONFIG_124m`)\n",
        "- Updating it dynamically based on the chosen model name"
      ],
      "metadata": {
        "id": "Ky6TRfpnvAhW"
      }
    },
    {
      "cell_type": "code",
      "source": [
        "# Define model configurations in a dictionary for compactness\n",
        "model_configs = {\n",
        "    \"gpt2-small (124M)\": {\"emb_dim\": 768, \"n_layers\": 12, \"n_heads\": 12},\n",
        "    \"gpt2-medium (355M)\": {\"emb_dim\": 1024, \"n_layers\": 24, \"n_heads\": 16},\n",
        "    \"gpt2-large (774M)\": {\"emb_dim\": 1280, \"n_layers\": 36, \"n_heads\": 20},\n",
        "    \"gpt2-xl (1558M)\": {\"emb_dim\": 1600, \"n_layers\": 48, \"n_heads\": 25},\n",
        "}\n",
        "\n",
        "# Copy the base configuration and update with specific model settings\n",
        "model_name = \"gpt2-small (124M)\"  # Example model name\n",
        "NEW_CONFIG = GPT_CONFIG_124m.copy()\n",
        "NEW_CONFIG.update(model_configs[model_name])\n"
      ],
      "metadata": {
        "id": "dBIxWKnBy1T3"
      },
      "execution_count": 213,
      "outputs": []
    },
    {
      "cell_type": "code",
      "source": [
        "NEW_CONFIG.update({\"context_length\": 1024, \"qkv_bias\": True})\n",
        "# Instantiate model using the updated configuration\n",
        "gpt = GPTModel(NEW_CONFIG)\n",
        "gpt.eval();"
      ],
      "metadata": {
        "id": "DEg8YUNry1QQ"
      },
      "execution_count": 214,
      "outputs": []
    },
    {
      "cell_type": "markdown",
      "source": [
        "### Safe Weight Assignment Helper\n",
        "\n",
        "This utility function is designed to **safely assign pretrained weights** to a PyTorch model parameter by checking shape compatibility before the assignment.\n",
        "\n",
        "---\n",
        "\n",
        "#### Function: `assign(left, right)`\n",
        "\n",
        "**Inputs:**\n",
        "- `left`: Target model parameter (e.g., from your current model)\n",
        "- `right`: Pretrained weight tensor you want to assign\n",
        "\n",
        "**Behavior:**\n",
        "1. Compares the shape of `left` and `right`.\n",
        "2. Raises a `ValueError` if shapes do not match.\n",
        "3. If shapes match, wraps the `right` tensor in `torch.nn.Parameter` and returns it.\n",
        "\n",
        "---\n",
        "\n",
        "#### Use Case\n",
        "\n",
        "This is especially useful during:\n",
        "- Manual weight loading from pretrained checkpoints\n",
        "- Model surgery or custom initialization\n",
        "- Debugging pretrained model mismatches"
      ],
      "metadata": {
        "id": "C78enaCYvLaD"
      }
    },
    {
      "cell_type": "code",
      "source": [
        "# Safely assign pretrained weights to a model parameter, checking shape compatibility\n",
        "def assign(left, right):\n",
        "    if left.shape != right.shape:\n",
        "        raise ValueError(f\"Shape mismatch. Left: {left.shape}, Right: {right.shape}\")\n",
        "    return torch.nn.Parameter(torch.tensor(right))         # Wrap into a trainable torch parameter"
      ],
      "metadata": {
        "id": "zWW1LmJrznJr"
      },
      "execution_count": 215,
      "outputs": []
    },
    {
      "cell_type": "markdown",
      "source": [
        "### Load Pretrained Weights into Custom GPT Model\n",
        "\n",
        "This function populates a custom GPT architecture with pretrained weights from a dictionary (`params`) that follows the structure of Hugging Face GPT-style models.\n",
        "\n",
        "---\n",
        "\n",
        "#### Function: `load_weights_into_gpt(gpt, params)`\n",
        "\n",
        "**Inputs:**\n",
        "- `gpt`: Your custom GPT model instance.\n",
        "- `params`: A dictionary containing pretrained weights (e.g., from OpenAI or HuggingFace GPT-2).\n",
        "\n",
        "---\n",
        "\n",
        "#### Components Loaded:\n",
        "\n",
        "1. **Embeddings**\n",
        "   - `wpe`: Positional embeddings → `gpt.pos_emb.weight`\n",
        "   - `wte`: Token embeddings → `gpt.tok_emb.weight` and `gpt.out_head.weight`\n",
        "\n",
        "2. **Transformer Blocks (looped over `b`):**\n",
        "   - **QKV Weights & Biases**:\n",
        "     - Extracted from `attn.c_attn` and split into query/key/value\n",
        "     - Assigned to `W_query`, `W_key`, and `W_value`\n",
        "   - **Output Projection**:\n",
        "     - `attn.c_proj` → `block.att.out_proj`\n",
        "   - **Feed-Forward Layers**:\n",
        "     - `mlp.c_fc` → first linear layer\n",
        "     - `mlp.c_proj` → final linear layer\n",
        "   - **Layer Norms**:\n",
        "     - `ln_1.g`, `ln_1.b` → `block.norm1`\n",
        "     - `ln_2.g`, `ln_2.b` → `block.norm2`\n",
        "\n",
        "3. **Final Layers**\n",
        "   - Final layer norm (`g`, `b`) → `gpt.final_norm`\n",
        "   - Output head (`wte` reused) → `gpt.out_head.weight`\n",
        "\n",
        "---\n",
        "\n",
        "#### Notes:\n",
        "- Uses the helper `assign()` to ensure shape compatibility before assigning weights.\n",
        "- Transposes weight matrices as required (`w.T`) to match PyTorch’s layout.\n"
      ],
      "metadata": {
        "id": "bUPZx23CveZZ"
      }
    },
    {
      "cell_type": "code",
      "source": [
        "import numpy as np\n",
        "\n",
        "# Load pretrained weights from 'params' dictionary into your custom GPT model\n",
        "def load_weights_into_gpt(gpt, params):\n",
        "    # Assign positional and token embeddings\n",
        "    gpt.pos_emb.weight = assign(gpt.pos_emb.weight, params['wpe'])      # positional embeddings\n",
        "    gpt.tok_emb.weight = assign(gpt.tok_emb.weight, params['wte'])      # token embeddings\n",
        "\n",
        "    # Iterate over the modules within the nn.Sequential trf_block\n",
        "    for b, block in enumerate(gpt.trf_block):\n",
        "        # Split QKV weights and assign\n",
        "        q_w, k_w, v_w = np.split(\n",
        "            (params[\"blocks\"][b][\"attn\"][\"c_attn\"])[\"w\"], 3, axis=-1)\n",
        "        block.att.W_query.weight = assign(\n",
        "            block.att.W_query.weight, q_w.T)\n",
        "        block.att.W_key.weight = assign(\n",
        "            block.att.W_key.weight, k_w.T)\n",
        "        block.att.W_value.weight = assign(\n",
        "            block.att.W_value.weight, v_w.T)\n",
        "\n",
        "        # Split QKV biases and assign\n",
        "        q_b, k_b, v_b = np.split(\n",
        "            (params[\"blocks\"][b][\"attn\"][\"c_attn\"])[\"b\"], 3, axis=-1)\n",
        "        block.att.W_query.bias = assign(\n",
        "            block.att.W_query.bias, q_b)\n",
        "        block.att.W_key.bias = assign(\n",
        "            block.att.W_key.bias, k_b)\n",
        "        block.att.W_value.bias = assign(\n",
        "            block.att.W_value.bias, v_b)\n",
        "\n",
        "        # Attention output projection\n",
        "        block.att.out_proj.weight = assign(\n",
        "            block.att.out_proj.weight,\n",
        "            params[\"blocks\"][b][\"attn\"][\"c_proj\"][\"w\"].T)\n",
        "        block.att.out_proj.bias = assign(\n",
        "            block.att.out_proj.bias,\n",
        "            params[\"blocks\"][b][\"attn\"][\"c_proj\"][\"b\"])\n",
        "\n",
        "        # Feed-forward network weights and biases\n",
        "        block.ff.layers[0].weight = assign(\n",
        "            block.ff.layers[0].weight,\n",
        "            params[\"blocks\"][b][\"mlp\"][\"c_fc\"][\"w\"].T)\n",
        "        block.ff.layers[0].bias = assign(\n",
        "            block.ff.layers[0].bias,\n",
        "            params[\"blocks\"][b][\"mlp\"][\"c_fc\"][\"b\"])\n",
        "        block.ff.layers[2].weight = assign(\n",
        "            block.ff.layers[2].weight,\n",
        "            params[\"blocks\"][b][\"mlp\"][\"c_proj\"][\"w\"].T)\n",
        "        block.ff.layers[2].bias = assign(\n",
        "            block.ff.layers[2].bias,\n",
        "            params[\"blocks\"][b][\"mlp\"][\"c_proj\"][\"b\"])\n",
        "\n",
        "        # Layer normalization parameters for attention and MLP sublayers\n",
        "        block.norm1.scale = assign(\n",
        "            block.norm1.scale,\n",
        "            params[\"blocks\"][b][\"ln_1\"][\"g\"])\n",
        "        block.norm1.shift = assign(\n",
        "            block.norm1.shift,\n",
        "            params[\"blocks\"][b][\"ln_1\"][\"b\"])\n",
        "        block.norm2.scale = assign(\n",
        "            block.norm2.scale,\n",
        "            params[\"blocks\"][b][\"ln_2\"][\"g\"])\n",
        "        block.norm2.shift = assign(\n",
        "            block.norm2.shift,\n",
        "            params[\"blocks\"][b][\"ln_2\"][\"b\"])\n",
        "\n",
        "    # Final layer normalization and output projection\n",
        "    gpt.final_norm.scale = assign(gpt.final_norm.scale, params[\"g\"])\n",
        "    gpt.final_norm.shift = assign(gpt.final_norm.shift, params[\"b\"])\n",
        "    gpt.out_head.weight = assign(gpt.out_head.weight, params[\"wte\"])"
      ],
      "metadata": {
        "id": "nKtSHFnfzquN"
      },
      "execution_count": 216,
      "outputs": []
    },
    {
      "cell_type": "code",
      "source": [
        "load_weights_into_gpt(gpt, params)\n",
        "gpt.to(device);"
      ],
      "metadata": {
        "id": "xLQ_Jt4IzulL"
      },
      "execution_count": 217,
      "outputs": []
    },
    {
      "cell_type": "code",
      "source": [
        "torch.manual_seed(123)\n",
        "\n",
        "token_ids = generate(\n",
        "    model=gpt,\n",
        "    idx=text_to_token_ids(\"Every effort moves you\", tokenizer).to(device),\n",
        "    max_new_tokens=25,\n",
        "    context_size=NEW_CONFIG[\"context_length\"],\n",
        "    top_k=50,\n",
        "    temperature=1.4\n",
        ")\n",
        "\n",
        "print(\"Output text:\\n\", token_ids_to_text(token_ids, tokenizer))"
      ],
      "metadata": {
        "colab": {
          "base_uri": "https://localhost:8080/"
        },
        "id": "oGZhNeplz7iQ",
        "outputId": "8b4c10ec-2641-4880-ed42-e8dba4487506"
      },
      "execution_count": 218,
      "outputs": [
        {
          "output_type": "stream",
          "name": "stdout",
          "text": [
            "Output text:\n",
            " Every effort moves you as far as the hand can go until the end of your turn. By now there's a very small delay before you gain\n"
          ]
        }
      ]
    },
    {
      "cell_type": "markdown",
      "source": [
        "FINETUNING FOR CLASSIFICATION\n"
      ],
      "metadata": {
        "id": "EENBn0eQQ2oW"
      }
    },
    {
      "cell_type": "markdown",
      "source": [
        "### Download and Prepare the SMS Spam Collection Dataset\n",
        "\n",
        "This script downloads the SMS Spam Collection dataset from the UCI repository, unzips it, and renames the main data file with a `.tsv` extension for easier use.\n"
      ],
      "metadata": {
        "id": "fbmV12-vwBIS"
      }
    },
    {
      "cell_type": "code",
      "source": [
        "import urllib.request\n",
        "import ssl\n",
        "import zipfile\n",
        "import os\n",
        "from pathlib import Path\n",
        "\n",
        "url = \"https://archive.ics.uci.edu/static/public/228/sms+spam+collection.zip\"\n",
        "zip_path = \"sms_spam_collection.zip\"\n",
        "extracted_path = \"sms_spam_collection\"\n",
        "data_file_path = Path(extracted_path) / \"SMSSpamCollection.tsv\"\n",
        "\n",
        "def download_and_unzip_spam_data(url, zip_path, extracted_path, data_file_path):\n",
        "    if data_file_path.exists():\n",
        "        print(f\"{data_file_path} already exists. Skipping download and extraction.\")\n",
        "        return\n",
        "\n",
        "    # Create an unverified SSL context\n",
        "    ssl_context = ssl._create_unverified_context()\n",
        "\n",
        "    # Downloading the file\n",
        "    with urllib.request.urlopen(url, context=ssl_context) as response:\n",
        "        with open(zip_path, \"wb\") as out_file:\n",
        "            out_file.write(response.read())\n",
        "\n",
        "    # Unzipping the file\n",
        "    with zipfile.ZipFile(zip_path, \"r\") as zip_ref:\n",
        "        zip_ref.extractall(extracted_path)\n",
        "\n",
        "    # Add .tsv file extension\n",
        "    original_file_path = Path(extracted_path) / \"SMSSpamCollection\"\n",
        "    os.rename(original_file_path, data_file_path)\n",
        "    print(f\"File downloaded and saved as {data_file_path}\")\n",
        "\n",
        "download_and_unzip_spam_data(url, zip_path, extracted_path, data_file_path)\n"
      ],
      "metadata": {
        "colab": {
          "base_uri": "https://localhost:8080/"
        },
        "id": "smrik7qKQ4n7",
        "outputId": "4272078f-e7e1-41b6-af4e-7fb578518996"
      },
      "execution_count": 428,
      "outputs": [
        {
          "output_type": "stream",
          "name": "stdout",
          "text": [
            "sms_spam_collection/SMSSpamCollection.tsv already exists. Skipping download and extraction.\n"
          ]
        }
      ]
    },
    {
      "cell_type": "code",
      "source": [
        "import pandas as pd\n",
        "\n",
        "df = pd.read_csv(data_file_path, sep=\"\\t\", header=None, names=[\"Label\", \"Text\"])\n",
        "df"
      ],
      "metadata": {
        "colab": {
          "base_uri": "https://localhost:8080/",
          "height": 423
        },
        "id": "oilv6XiZQ9-6",
        "outputId": "5b69c1a3-c144-4e2d-de0c-bf898079ff10"
      },
      "execution_count": 429,
      "outputs": [
        {
          "output_type": "execute_result",
          "data": {
            "text/plain": [
              "     Label                                               Text\n",
              "0      ham  Go until jurong point, crazy.. Available only ...\n",
              "1      ham                      Ok lar... Joking wif u oni...\n",
              "2     spam  Free entry in 2 a wkly comp to win FA Cup fina...\n",
              "3      ham  U dun say so early hor... U c already then say...\n",
              "4      ham  Nah I don't think he goes to usf, he lives aro...\n",
              "...    ...                                                ...\n",
              "5567  spam  This is the 2nd time we have tried 2 contact u...\n",
              "5568   ham               Will ü b going to esplanade fr home?\n",
              "5569   ham  Pity, * was in mood for that. So...any other s...\n",
              "5570   ham  The guy did some bitching but I acted like i'd...\n",
              "5571   ham                         Rofl. Its true to its name\n",
              "\n",
              "[5572 rows x 2 columns]"
            ],
            "text/html": [
              "\n",
              "  <div id=\"df-35a2c245-d531-4787-8cb1-dfadcc03b5c4\" class=\"colab-df-container\">\n",
              "    <div>\n",
              "<style scoped>\n",
              "    .dataframe tbody tr th:only-of-type {\n",
              "        vertical-align: middle;\n",
              "    }\n",
              "\n",
              "    .dataframe tbody tr th {\n",
              "        vertical-align: top;\n",
              "    }\n",
              "\n",
              "    .dataframe thead th {\n",
              "        text-align: right;\n",
              "    }\n",
              "</style>\n",
              "<table border=\"1\" class=\"dataframe\">\n",
              "  <thead>\n",
              "    <tr style=\"text-align: right;\">\n",
              "      <th></th>\n",
              "      <th>Label</th>\n",
              "      <th>Text</th>\n",
              "    </tr>\n",
              "  </thead>\n",
              "  <tbody>\n",
              "    <tr>\n",
              "      <th>0</th>\n",
              "      <td>ham</td>\n",
              "      <td>Go until jurong point, crazy.. Available only ...</td>\n",
              "    </tr>\n",
              "    <tr>\n",
              "      <th>1</th>\n",
              "      <td>ham</td>\n",
              "      <td>Ok lar... Joking wif u oni...</td>\n",
              "    </tr>\n",
              "    <tr>\n",
              "      <th>2</th>\n",
              "      <td>spam</td>\n",
              "      <td>Free entry in 2 a wkly comp to win FA Cup fina...</td>\n",
              "    </tr>\n",
              "    <tr>\n",
              "      <th>3</th>\n",
              "      <td>ham</td>\n",
              "      <td>U dun say so early hor... U c already then say...</td>\n",
              "    </tr>\n",
              "    <tr>\n",
              "      <th>4</th>\n",
              "      <td>ham</td>\n",
              "      <td>Nah I don't think he goes to usf, he lives aro...</td>\n",
              "    </tr>\n",
              "    <tr>\n",
              "      <th>...</th>\n",
              "      <td>...</td>\n",
              "      <td>...</td>\n",
              "    </tr>\n",
              "    <tr>\n",
              "      <th>5567</th>\n",
              "      <td>spam</td>\n",
              "      <td>This is the 2nd time we have tried 2 contact u...</td>\n",
              "    </tr>\n",
              "    <tr>\n",
              "      <th>5568</th>\n",
              "      <td>ham</td>\n",
              "      <td>Will ü b going to esplanade fr home?</td>\n",
              "    </tr>\n",
              "    <tr>\n",
              "      <th>5569</th>\n",
              "      <td>ham</td>\n",
              "      <td>Pity, * was in mood for that. So...any other s...</td>\n",
              "    </tr>\n",
              "    <tr>\n",
              "      <th>5570</th>\n",
              "      <td>ham</td>\n",
              "      <td>The guy did some bitching but I acted like i'd...</td>\n",
              "    </tr>\n",
              "    <tr>\n",
              "      <th>5571</th>\n",
              "      <td>ham</td>\n",
              "      <td>Rofl. Its true to its name</td>\n",
              "    </tr>\n",
              "  </tbody>\n",
              "</table>\n",
              "<p>5572 rows × 2 columns</p>\n",
              "</div>\n",
              "    <div class=\"colab-df-buttons\">\n",
              "\n",
              "  <div class=\"colab-df-container\">\n",
              "    <button class=\"colab-df-convert\" onclick=\"convertToInteractive('df-35a2c245-d531-4787-8cb1-dfadcc03b5c4')\"\n",
              "            title=\"Convert this dataframe to an interactive table.\"\n",
              "            style=\"display:none;\">\n",
              "\n",
              "  <svg xmlns=\"http://www.w3.org/2000/svg\" height=\"24px\" viewBox=\"0 -960 960 960\">\n",
              "    <path d=\"M120-120v-720h720v720H120Zm60-500h600v-160H180v160Zm220 220h160v-160H400v160Zm0 220h160v-160H400v160ZM180-400h160v-160H180v160Zm440 0h160v-160H620v160ZM180-180h160v-160H180v160Zm440 0h160v-160H620v160Z\"/>\n",
              "  </svg>\n",
              "    </button>\n",
              "\n",
              "  <style>\n",
              "    .colab-df-container {\n",
              "      display:flex;\n",
              "      gap: 12px;\n",
              "    }\n",
              "\n",
              "    .colab-df-convert {\n",
              "      background-color: #E8F0FE;\n",
              "      border: none;\n",
              "      border-radius: 50%;\n",
              "      cursor: pointer;\n",
              "      display: none;\n",
              "      fill: #1967D2;\n",
              "      height: 32px;\n",
              "      padding: 0 0 0 0;\n",
              "      width: 32px;\n",
              "    }\n",
              "\n",
              "    .colab-df-convert:hover {\n",
              "      background-color: #E2EBFA;\n",
              "      box-shadow: 0px 1px 2px rgba(60, 64, 67, 0.3), 0px 1px 3px 1px rgba(60, 64, 67, 0.15);\n",
              "      fill: #174EA6;\n",
              "    }\n",
              "\n",
              "    .colab-df-buttons div {\n",
              "      margin-bottom: 4px;\n",
              "    }\n",
              "\n",
              "    [theme=dark] .colab-df-convert {\n",
              "      background-color: #3B4455;\n",
              "      fill: #D2E3FC;\n",
              "    }\n",
              "\n",
              "    [theme=dark] .colab-df-convert:hover {\n",
              "      background-color: #434B5C;\n",
              "      box-shadow: 0px 1px 3px 1px rgba(0, 0, 0, 0.15);\n",
              "      filter: drop-shadow(0px 1px 2px rgba(0, 0, 0, 0.3));\n",
              "      fill: #FFFFFF;\n",
              "    }\n",
              "  </style>\n",
              "\n",
              "    <script>\n",
              "      const buttonEl =\n",
              "        document.querySelector('#df-35a2c245-d531-4787-8cb1-dfadcc03b5c4 button.colab-df-convert');\n",
              "      buttonEl.style.display =\n",
              "        google.colab.kernel.accessAllowed ? 'block' : 'none';\n",
              "\n",
              "      async function convertToInteractive(key) {\n",
              "        const element = document.querySelector('#df-35a2c245-d531-4787-8cb1-dfadcc03b5c4');\n",
              "        const dataTable =\n",
              "          await google.colab.kernel.invokeFunction('convertToInteractive',\n",
              "                                                    [key], {});\n",
              "        if (!dataTable) return;\n",
              "\n",
              "        const docLinkHtml = 'Like what you see? Visit the ' +\n",
              "          '<a target=\"_blank\" href=https://colab.research.google.com/notebooks/data_table.ipynb>data table notebook</a>'\n",
              "          + ' to learn more about interactive tables.';\n",
              "        element.innerHTML = '';\n",
              "        dataTable['output_type'] = 'display_data';\n",
              "        await google.colab.output.renderOutput(dataTable, element);\n",
              "        const docLink = document.createElement('div');\n",
              "        docLink.innerHTML = docLinkHtml;\n",
              "        element.appendChild(docLink);\n",
              "      }\n",
              "    </script>\n",
              "  </div>\n",
              "\n",
              "\n",
              "    <div id=\"df-e146e428-a371-42d3-8892-f6c963f74d89\">\n",
              "      <button class=\"colab-df-quickchart\" onclick=\"quickchart('df-e146e428-a371-42d3-8892-f6c963f74d89')\"\n",
              "                title=\"Suggest charts\"\n",
              "                style=\"display:none;\">\n",
              "\n",
              "<svg xmlns=\"http://www.w3.org/2000/svg\" height=\"24px\"viewBox=\"0 0 24 24\"\n",
              "     width=\"24px\">\n",
              "    <g>\n",
              "        <path d=\"M19 3H5c-1.1 0-2 .9-2 2v14c0 1.1.9 2 2 2h14c1.1 0 2-.9 2-2V5c0-1.1-.9-2-2-2zM9 17H7v-7h2v7zm4 0h-2V7h2v10zm4 0h-2v-4h2v4z\"/>\n",
              "    </g>\n",
              "</svg>\n",
              "      </button>\n",
              "\n",
              "<style>\n",
              "  .colab-df-quickchart {\n",
              "      --bg-color: #E8F0FE;\n",
              "      --fill-color: #1967D2;\n",
              "      --hover-bg-color: #E2EBFA;\n",
              "      --hover-fill-color: #174EA6;\n",
              "      --disabled-fill-color: #AAA;\n",
              "      --disabled-bg-color: #DDD;\n",
              "  }\n",
              "\n",
              "  [theme=dark] .colab-df-quickchart {\n",
              "      --bg-color: #3B4455;\n",
              "      --fill-color: #D2E3FC;\n",
              "      --hover-bg-color: #434B5C;\n",
              "      --hover-fill-color: #FFFFFF;\n",
              "      --disabled-bg-color: #3B4455;\n",
              "      --disabled-fill-color: #666;\n",
              "  }\n",
              "\n",
              "  .colab-df-quickchart {\n",
              "    background-color: var(--bg-color);\n",
              "    border: none;\n",
              "    border-radius: 50%;\n",
              "    cursor: pointer;\n",
              "    display: none;\n",
              "    fill: var(--fill-color);\n",
              "    height: 32px;\n",
              "    padding: 0;\n",
              "    width: 32px;\n",
              "  }\n",
              "\n",
              "  .colab-df-quickchart:hover {\n",
              "    background-color: var(--hover-bg-color);\n",
              "    box-shadow: 0 1px 2px rgba(60, 64, 67, 0.3), 0 1px 3px 1px rgba(60, 64, 67, 0.15);\n",
              "    fill: var(--button-hover-fill-color);\n",
              "  }\n",
              "\n",
              "  .colab-df-quickchart-complete:disabled,\n",
              "  .colab-df-quickchart-complete:disabled:hover {\n",
              "    background-color: var(--disabled-bg-color);\n",
              "    fill: var(--disabled-fill-color);\n",
              "    box-shadow: none;\n",
              "  }\n",
              "\n",
              "  .colab-df-spinner {\n",
              "    border: 2px solid var(--fill-color);\n",
              "    border-color: transparent;\n",
              "    border-bottom-color: var(--fill-color);\n",
              "    animation:\n",
              "      spin 1s steps(1) infinite;\n",
              "  }\n",
              "\n",
              "  @keyframes spin {\n",
              "    0% {\n",
              "      border-color: transparent;\n",
              "      border-bottom-color: var(--fill-color);\n",
              "      border-left-color: var(--fill-color);\n",
              "    }\n",
              "    20% {\n",
              "      border-color: transparent;\n",
              "      border-left-color: var(--fill-color);\n",
              "      border-top-color: var(--fill-color);\n",
              "    }\n",
              "    30% {\n",
              "      border-color: transparent;\n",
              "      border-left-color: var(--fill-color);\n",
              "      border-top-color: var(--fill-color);\n",
              "      border-right-color: var(--fill-color);\n",
              "    }\n",
              "    40% {\n",
              "      border-color: transparent;\n",
              "      border-right-color: var(--fill-color);\n",
              "      border-top-color: var(--fill-color);\n",
              "    }\n",
              "    60% {\n",
              "      border-color: transparent;\n",
              "      border-right-color: var(--fill-color);\n",
              "    }\n",
              "    80% {\n",
              "      border-color: transparent;\n",
              "      border-right-color: var(--fill-color);\n",
              "      border-bottom-color: var(--fill-color);\n",
              "    }\n",
              "    90% {\n",
              "      border-color: transparent;\n",
              "      border-bottom-color: var(--fill-color);\n",
              "    }\n",
              "  }\n",
              "</style>\n",
              "\n",
              "      <script>\n",
              "        async function quickchart(key) {\n",
              "          const quickchartButtonEl =\n",
              "            document.querySelector('#' + key + ' button');\n",
              "          quickchartButtonEl.disabled = true;  // To prevent multiple clicks.\n",
              "          quickchartButtonEl.classList.add('colab-df-spinner');\n",
              "          try {\n",
              "            const charts = await google.colab.kernel.invokeFunction(\n",
              "                'suggestCharts', [key], {});\n",
              "          } catch (error) {\n",
              "            console.error('Error during call to suggestCharts:', error);\n",
              "          }\n",
              "          quickchartButtonEl.classList.remove('colab-df-spinner');\n",
              "          quickchartButtonEl.classList.add('colab-df-quickchart-complete');\n",
              "        }\n",
              "        (() => {\n",
              "          let quickchartButtonEl =\n",
              "            document.querySelector('#df-e146e428-a371-42d3-8892-f6c963f74d89 button');\n",
              "          quickchartButtonEl.style.display =\n",
              "            google.colab.kernel.accessAllowed ? 'block' : 'none';\n",
              "        })();\n",
              "      </script>\n",
              "    </div>\n",
              "\n",
              "  <div id=\"id_4211ad20-db1c-41f4-a0a8-151ff70c7908\">\n",
              "    <style>\n",
              "      .colab-df-generate {\n",
              "        background-color: #E8F0FE;\n",
              "        border: none;\n",
              "        border-radius: 50%;\n",
              "        cursor: pointer;\n",
              "        display: none;\n",
              "        fill: #1967D2;\n",
              "        height: 32px;\n",
              "        padding: 0 0 0 0;\n",
              "        width: 32px;\n",
              "      }\n",
              "\n",
              "      .colab-df-generate:hover {\n",
              "        background-color: #E2EBFA;\n",
              "        box-shadow: 0px 1px 2px rgba(60, 64, 67, 0.3), 0px 1px 3px 1px rgba(60, 64, 67, 0.15);\n",
              "        fill: #174EA6;\n",
              "      }\n",
              "\n",
              "      [theme=dark] .colab-df-generate {\n",
              "        background-color: #3B4455;\n",
              "        fill: #D2E3FC;\n",
              "      }\n",
              "\n",
              "      [theme=dark] .colab-df-generate:hover {\n",
              "        background-color: #434B5C;\n",
              "        box-shadow: 0px 1px 3px 1px rgba(0, 0, 0, 0.15);\n",
              "        filter: drop-shadow(0px 1px 2px rgba(0, 0, 0, 0.3));\n",
              "        fill: #FFFFFF;\n",
              "      }\n",
              "    </style>\n",
              "    <button class=\"colab-df-generate\" onclick=\"generateWithVariable('df')\"\n",
              "            title=\"Generate code using this dataframe.\"\n",
              "            style=\"display:none;\">\n",
              "\n",
              "  <svg xmlns=\"http://www.w3.org/2000/svg\" height=\"24px\"viewBox=\"0 0 24 24\"\n",
              "       width=\"24px\">\n",
              "    <path d=\"M7,19H8.4L18.45,9,17,7.55,7,17.6ZM5,21V16.75L18.45,3.32a2,2,0,0,1,2.83,0l1.4,1.43a1.91,1.91,0,0,1,.58,1.4,1.91,1.91,0,0,1-.58,1.4L9.25,21ZM18.45,9,17,7.55Zm-12,3A5.31,5.31,0,0,0,4.9,8.1,5.31,5.31,0,0,0,1,6.5,5.31,5.31,0,0,0,4.9,4.9,5.31,5.31,0,0,0,6.5,1,5.31,5.31,0,0,0,8.1,4.9,5.31,5.31,0,0,0,12,6.5,5.46,5.46,0,0,0,6.5,12Z\"/>\n",
              "  </svg>\n",
              "    </button>\n",
              "    <script>\n",
              "      (() => {\n",
              "      const buttonEl =\n",
              "        document.querySelector('#id_4211ad20-db1c-41f4-a0a8-151ff70c7908 button.colab-df-generate');\n",
              "      buttonEl.style.display =\n",
              "        google.colab.kernel.accessAllowed ? 'block' : 'none';\n",
              "\n",
              "      buttonEl.onclick = () => {\n",
              "        google.colab.notebook.generateWithVariable('df');\n",
              "      }\n",
              "      })();\n",
              "    </script>\n",
              "  </div>\n",
              "\n",
              "    </div>\n",
              "  </div>\n"
            ],
            "application/vnd.google.colaboratory.intrinsic+json": {
              "type": "dataframe",
              "variable_name": "df",
              "summary": "{\n  \"name\": \"df\",\n  \"rows\": 5572,\n  \"fields\": [\n    {\n      \"column\": \"Label\",\n      \"properties\": {\n        \"dtype\": \"category\",\n        \"num_unique_values\": 2,\n        \"samples\": [\n          \"spam\",\n          \"ham\"\n        ],\n        \"semantic_type\": \"\",\n        \"description\": \"\"\n      }\n    },\n    {\n      \"column\": \"Text\",\n      \"properties\": {\n        \"dtype\": \"string\",\n        \"num_unique_values\": 5169,\n        \"samples\": [\n          \"K, makes sense, btw carlos is being difficult so you guys are gonna smoke while I go pick up the second batch and get gas\",\n          \"URGENT! Your mobile No *********** WON a \\u00a32,000 Bonus Caller Prize on 02/06/03! This is the 2nd attempt to reach YOU! Call 09066362220 ASAP! BOX97N7QP, 150ppm\"\n        ],\n        \"semantic_type\": \"\",\n        \"description\": \"\"\n      }\n    }\n  ]\n}"
            }
          },
          "metadata": {},
          "execution_count": 429
        }
      ]
    },
    {
      "cell_type": "code",
      "source": [
        "print(df[\"Label\"].value_counts())\n"
      ],
      "metadata": {
        "colab": {
          "base_uri": "https://localhost:8080/"
        },
        "id": "p4ElfQPjRBrU",
        "outputId": "87d65747-b0b6-455a-f25a-0cd061896c5e"
      },
      "execution_count": 430,
      "outputs": [
        {
          "output_type": "stream",
          "name": "stdout",
          "text": [
            "Label\n",
            "ham     4825\n",
            "spam     747\n",
            "Name: count, dtype: int64\n"
          ]
        }
      ]
    },
    {
      "cell_type": "markdown",
      "source": [
        "### Create a Balanced Dataset (Spam vs. Ham)\n",
        "\n",
        "This function balances the dataset by **undersampling** the majority class (\"ham\") to match the number of instances in the minority class (\"spam\"). Useful when dealing with imbalanced binary classification problems like spam detection."
      ],
      "metadata": {
        "id": "Yimezi7L6yZa"
      }
    },
    {
      "cell_type": "code",
      "source": [
        "def create_balanced_dataset(df):\n",
        "    # Count the instances of \"spam\"\n",
        "    num_spam = df[df[\"Label\"] == \"spam\"].shape[0]\n",
        "\n",
        "    # Randomly sample \"ham\" instances to match the number of \"spam\" instances\n",
        "    ham_subset = df[df[\"Label\"] == \"ham\"].sample(num_spam, random_state=123)\n",
        "\n",
        "    # Combine ham \"subset\" with \"spam\"\n",
        "    balanced_df = pd.concat([ham_subset, df[df[\"Label\"] == \"spam\"]])\n",
        "\n",
        "    return balanced_df\n",
        "\n",
        "balanced_df = create_balanced_dataset(df)\n",
        "print(balanced_df[\"Label\"].value_counts())"
      ],
      "metadata": {
        "colab": {
          "base_uri": "https://localhost:8080/"
        },
        "id": "TOSnYsNAREfA",
        "outputId": "83bfa2a2-e55f-490c-8adf-f9dbfd1ae17b"
      },
      "execution_count": 431,
      "outputs": [
        {
          "output_type": "stream",
          "name": "stdout",
          "text": [
            "Label\n",
            "ham     747\n",
            "spam    747\n",
            "Name: count, dtype: int64\n"
          ]
        }
      ]
    },
    {
      "cell_type": "markdown",
      "source": [
        "### Convert Text Labels to Numeric Values\n",
        "\n",
        "To prepare the labels for model training, map `\"ham\"` to `0` and `\"spam\"` to `1`:\n"
      ],
      "metadata": {
        "id": "4j708qRu7BM6"
      }
    },
    {
      "cell_type": "code",
      "source": [
        "balanced_df[\"Label\"] = balanced_df[\"Label\"].map({\"ham\": 0, \"spam\": 1})"
      ],
      "metadata": {
        "id": "QKy2GIpGRGv8"
      },
      "execution_count": 432,
      "outputs": []
    },
    {
      "cell_type": "markdown",
      "source": [
        "### Train-Validation-Test Split Function\n",
        "\n",
        "This function shuffles a DataFrame and splits it into **train**, **validation**, and **test**"
      ],
      "metadata": {
        "id": "Ev28eFZP66Yj"
      }
    },
    {
      "cell_type": "code",
      "source": [
        "def random_split(df, train_frac, validation_frac):\n",
        "    # Shuffle the entire DataFrame\n",
        "    df = df.sample(frac=1, random_state=123).reset_index(drop=True)\n",
        "\n",
        "    # Calculate split indices\n",
        "    train_end = int(len(df) * train_frac)\n",
        "    validation_end = train_end + int(len(df) * validation_frac)\n",
        "\n",
        "    # Split the DataFrame\n",
        "    train_df = df[:train_end]\n",
        "    validation_df = df[train_end:validation_end]\n",
        "    test_df = df[validation_end:]\n",
        "\n",
        "    return train_df, validation_df, test_df\n",
        "\n",
        "train_df, validation_df, test_df = random_split(balanced_df, 0.7, 0.1)\n",
        "# Test size is implied to be 0.2 as the remainder\n"
      ],
      "metadata": {
        "id": "sCZgM-W7RI-g"
      },
      "execution_count": 433,
      "outputs": []
    },
    {
      "cell_type": "code",
      "source": [
        "print(len(train_df))\n",
        "print(len(validation_df))\n",
        "print(len(test_df))"
      ],
      "metadata": {
        "colab": {
          "base_uri": "https://localhost:8080/"
        },
        "id": "olA9xjlaRKwC",
        "outputId": "b6f723e6-6d90-44d0-8ac7-29e3100d6a84"
      },
      "execution_count": 434,
      "outputs": [
        {
          "output_type": "stream",
          "name": "stdout",
          "text": [
            "1045\n",
            "149\n",
            "300\n"
          ]
        }
      ]
    },
    {
      "cell_type": "code",
      "source": [
        "train_df.to_csv(\"train.csv\", index=None)\n",
        "validation_df.to_csv(\"validation.csv\", index=None)\n",
        "test_df.to_csv(\"test.csv\", index=None)"
      ],
      "metadata": {
        "id": "9oNNMQ9eRNMP"
      },
      "execution_count": 435,
      "outputs": []
    },
    {
      "cell_type": "markdown",
      "source": [
        "### Custom PyTorch Dataset: `SpamDataset`\n",
        "\n",
        "This class creates a PyTorch-compatible dataset for SMS spam classification using pre-tokenized inputs.\n",
        "\n",
        "---\n",
        "\n",
        "#### Class: `SpamDataset`\n",
        "\n",
        "**Inputs:**\n",
        "- `csv_file`: Path to the CSV file containing the dataset.\n",
        "- `tokenizer`: Tokenizer to convert text into token IDs.\n",
        "- `max_length` (optional): Maximum sequence length. If not provided, uses the longest sequence in the dataset.\n",
        "- `pad_token_id` (default=50256): Token ID used for padding sequences to `max_length`.\n",
        "\n",
        "---\n",
        "\n",
        "#### Main Features:\n",
        "\n",
        "1. **Tokenization**:\n",
        "   - Tokenizes each message in the `\"Text\"` column using the provided `tokenizer`.\n",
        "\n",
        "2. **Truncation and Padding**:\n",
        "   - Truncates any sequence longer than `max_length`.\n",
        "   - Pads all sequences to `max_length` using `pad_token_id`.\n",
        "\n",
        "3. **Label Handling**:\n",
        "   - Converts each sample’s label from the `\"Label\"` column into a PyTorch tensor.\n",
        "\n",
        "4. **Dataset Interface**:\n",
        "   - `__getitem__(index)`: Returns `(input_tensor, label_tensor)` for the given index.\n",
        "   - `__len__()`: Returns total number of samples.\n",
        "   - `_longest_encoded_length()`: Calculates length of the longest encoded text for dynamic padding.\n",
        "\n"
      ],
      "metadata": {
        "id": "mG-Z-U_d7JrE"
      }
    },
    {
      "cell_type": "code",
      "source": [
        "import torch\n",
        "from torch.utils.data import Dataset\n",
        "\n",
        "\n",
        "class SpamDataset(Dataset):\n",
        "    def __init__(self, csv_file, tokenizer, max_length=None, pad_token_id=50256):\n",
        "        self.data = pd.read_csv(csv_file)\n",
        "\n",
        "        # Pre-tokenize texts\n",
        "        self.encoded_texts = [\n",
        "            tokenizer.encode(text) for text in self.data[\"Text\"]\n",
        "        ]\n",
        "\n",
        "        if max_length is None:\n",
        "            self.max_length = self._longest_encoded_length()\n",
        "        else:\n",
        "            self.max_length = max_length\n",
        "            # Truncate sequences if they are longer than max_length\n",
        "            self.encoded_texts = [\n",
        "                encoded_text[:self.max_length]\n",
        "                for encoded_text in self.encoded_texts\n",
        "            ]\n",
        "\n",
        "        # Pad sequences to the longest sequence\n",
        "        self.encoded_texts = [\n",
        "            encoded_text + [pad_token_id] * (self.max_length - len(encoded_text))\n",
        "            for encoded_text in self.encoded_texts\n",
        "        ]\n",
        "\n",
        "    def __getitem__(self, index):\n",
        "        encoded = self.encoded_texts[index]\n",
        "        label = self.data.iloc[index][\"Label\"]\n",
        "        return (\n",
        "            torch.tensor(encoded, dtype=torch.long),\n",
        "            torch.tensor(label, dtype=torch.long)\n",
        "        )\n",
        "\n",
        "    def __len__(self):\n",
        "        return len(self.data)\n",
        "\n",
        "    def _longest_encoded_length(self):\n",
        "        max_length = 0\n",
        "        for encoded_text in self.encoded_texts:\n",
        "            encoded_length = len(encoded_text)\n",
        "            if encoded_length > max_length:\n",
        "                max_length = encoded_length\n",
        "        return max_length"
      ],
      "metadata": {
        "id": "UGGZFEtARPik"
      },
      "execution_count": 436,
      "outputs": []
    },
    {
      "cell_type": "code",
      "source": [
        "train_dataset = SpamDataset(\n",
        "    csv_file=\"train.csv\",\n",
        "    max_length=None,\n",
        "    tokenizer=tokenizer\n",
        ")\n",
        "\n",
        "print(train_dataset.max_length)"
      ],
      "metadata": {
        "colab": {
          "base_uri": "https://localhost:8080/"
        },
        "id": "KMMIUiniTkzT",
        "outputId": "01329651-68a7-43a6-c829-a5bb672b53bd"
      },
      "execution_count": 437,
      "outputs": [
        {
          "output_type": "stream",
          "name": "stdout",
          "text": [
            "120\n"
          ]
        }
      ]
    },
    {
      "cell_type": "code",
      "source": [
        "val_dataset = SpamDataset(\n",
        "    csv_file=\"validation.csv\",\n",
        "    max_length=train_dataset.max_length,\n",
        "    tokenizer=tokenizer\n",
        ")\n",
        "test_dataset = SpamDataset(\n",
        "    csv_file=\"test.csv\",\n",
        "    max_length=train_dataset.max_length,\n",
        "    tokenizer=tokenizer\n",
        ")"
      ],
      "metadata": {
        "id": "ftM0QE8CTnIW"
      },
      "execution_count": 438,
      "outputs": []
    },
    {
      "cell_type": "code",
      "source": [
        "from torch.utils.data import DataLoader\n",
        "\n",
        "num_workers = 0\n",
        "batch_size = 8\n",
        "\n",
        "torch.manual_seed(123)\n",
        "\n",
        "train_loader = DataLoader(\n",
        "    dataset=train_dataset,\n",
        "    batch_size=batch_size,\n",
        "    shuffle=True,\n",
        "    num_workers=num_workers,\n",
        "    drop_last=True,\n",
        ")\n",
        "\n",
        "val_loader = DataLoader(\n",
        "    dataset=val_dataset,\n",
        "    batch_size=batch_size,\n",
        "    num_workers=num_workers,\n",
        "    drop_last=False,\n",
        ")\n",
        "\n",
        "test_loader = DataLoader(\n",
        "    dataset=test_dataset,\n",
        "    batch_size=batch_size,\n",
        "    num_workers=num_workers,\n",
        "    drop_last=False,\n",
        ")"
      ],
      "metadata": {
        "id": "VcfK-hJBUD6w"
      },
      "execution_count": 439,
      "outputs": []
    },
    {
      "cell_type": "markdown",
      "source": [
        "### Model Configuration & Validation\n",
        "\n",
        "This block sets up the configuration for a GPT model variant (e.g., GPT-2 Small) and ensures that the input dataset does not exceed the model’s maximum context length.\n",
        "\n",
        "---\n",
        "\n",
        "#### Key Elements\n",
        "\n",
        "- **`CHOOSE_MODEL`**: Specifies which GPT-2 variant to use (e.g., `gpt2-small (124M)`).\n",
        "- **`INPUT_PROMPT`**: Initial text prompt used for generation.\n",
        "\n",
        "---\n",
        "\n",
        "#### `BASE_CONFIG` Dictionary\n",
        "\n",
        "Defines the base model configuration:\n",
        "\n",
        "- `vocab_size`: Size of the tokenizer vocabulary.\n",
        "- `context_length`: Maximum number of tokens the model can attend to.\n",
        "- `dropout`: Dropout rate for training regularization.\n",
        "- `qkv_bias`: Whether to apply a bias term to the query/key/value projections in attention.\n",
        "\n",
        "---\n",
        "\n",
        "#### `model_configs` Dictionary\n",
        "\n",
        "Maps each GPT-2 model variant to its architectural specs:\n",
        "\n",
        "- `emb_dim`: Embedding dimension.\n",
        "- `n_layers`: Number of transformer layers.\n",
        "- `n_heads`: Number of attention heads.\n",
        "\n",
        "The chosen model’s configuration is merged into `BASE_CONFIG`.\n",
        "\n"
      ],
      "metadata": {
        "id": "M2u3-at67cPY"
      }
    },
    {
      "cell_type": "code",
      "source": [
        "CHOOSE_MODEL = \"gpt2-small (124M)\"\n",
        "INPUT_PROMPT = \"Every effort moves\"\n",
        "\n",
        "BASE_CONFIG = {\n",
        "    \"vocab_size\": 50257,     # Vocabulary size\n",
        "    \"context_length\": 1024,  # Context length\n",
        "    \"dropout\": 0.0,          # Dropout rate #drop_rate\n",
        "    \"qkv_bias\": True         # Query-key-value bias\n",
        "}\n",
        "\n",
        "model_configs = {\n",
        "    \"gpt2-small (124M)\": {\"emb_dim\": 768, \"n_layers\": 12, \"n_heads\": 12},\n",
        "    \"gpt2-medium (355M)\": {\"emb_dim\": 1024, \"n_layers\": 24, \"n_heads\": 16},\n",
        "    \"gpt2-large (774M)\": {\"emb_dim\": 1280, \"n_layers\": 36, \"n_heads\": 20},\n",
        "    \"gpt2-xl (1558M)\": {\"emb_dim\": 1600, \"n_layers\": 48, \"n_heads\": 25},\n",
        "}\n",
        "\n",
        "BASE_CONFIG.update(model_configs[CHOOSE_MODEL])\n",
        "\n",
        "assert train_dataset.max_length <= BASE_CONFIG[\"context_length\"], (\n",
        "    f\"Dataset length {train_dataset.max_length} exceeds model's context \"\n",
        "    f\"length {BASE_CONFIG['context_length']}. Reinitialize data sets with \"\n",
        "    f\"`max_length={BASE_CONFIG['context_length']}`\"\n",
        ")"
      ],
      "metadata": {
        "id": "uM4niHuRVAoC"
      },
      "execution_count": 440,
      "outputs": []
    },
    {
      "cell_type": "code",
      "source": [
        "text_1 = \"Every effort moves you\"\n",
        "\n",
        "token_ids = generate_text_simple(\n",
        "    model=model,\n",
        "    idx=text_to_token_ids(text_1, tokenizer),\n",
        "    max_new_tokens=15,\n",
        "    context_size=BASE_CONFIG[\"context_length\"]\n",
        ")\n",
        "\n",
        "print(token_ids_to_text(token_ids, tokenizer))"
      ],
      "metadata": {
        "colab": {
          "base_uri": "https://localhost:8080/"
        },
        "id": "RTU5X27-sP1T",
        "outputId": "c8c7a409-ef50-40cf-8000-db8613b44556"
      },
      "execution_count": 441,
      "outputs": [
        {
          "output_type": "stream",
          "name": "stdout",
          "text": [
            "Every effort moves you know.\n",
            "\"--, the picture the the, you know the the\n"
          ]
        }
      ]
    },
    {
      "cell_type": "code",
      "source": [
        "text_2 = (\n",
        "    \"Is the following text 'spam'? Answer with 'yes' or 'no':\"\n",
        "    \" 'You are a winner you have been specially\"\n",
        "    \" selected to receive $1000 cash or a $2000 award.'\"\n",
        ")\n",
        "\n",
        "token_ids = generate_text_simple(\n",
        "    model=model,\n",
        "    idx=text_to_token_ids(text_2, tokenizer),\n",
        "    max_new_tokens=23,\n",
        "    context_size=BASE_CONFIG[\"context_length\"]\n",
        ")\n",
        "\n",
        "print(token_ids_to_text(token_ids, tokenizer))"
      ],
      "metadata": {
        "colab": {
          "base_uri": "https://localhost:8080/"
        },
        "id": "xVe9PH20yWE-",
        "outputId": "7c19db55-62df-4294-bb06-2a30a1b32a20"
      },
      "execution_count": 442,
      "outputs": [
        {
          "output_type": "stream",
          "name": "stdout",
          "text": [
            "Is the following text 'spam'? Answer with 'yes' or 'no': 'You are a winner you have been specially selected to receive $1000 cash or a $2000 award.', and he had been was, you know a good- the picture was his pictures, the picture was a of\n"
          ]
        }
      ]
    },
    {
      "cell_type": "markdown",
      "source": [
        "### GPT Model Architecture Overview (GPT-2 Small - 124M)\n",
        "\n",
        "The following is a summary of the architecture for the GPT-style transformer model based on the 124M parameter configuration:\n",
        "\n",
        "---\n",
        "\n",
        "#### Model Components:\n",
        "\n",
        "- **Embedding Layers:**\n",
        "  - `tok_emb`: Token embedding of shape `(vocab_size=50257, emb_dim=768)`\n",
        "  - `pos_emb`: Positional embedding of shape `(context_length=1024, emb_dim=768)`\n",
        "  - `drop_emb`: Dropout applied to the embeddings (p=0.1)\n",
        "\n",
        "- **Transformer Stack (`trf_block`):**\n",
        "  - `12` stacked `TransformerBlock` modules, each containing:\n",
        "    - **MultiHeadAttention**:\n",
        "      - `W_query`, `W_key`, `W_value`: Linear layers (768 → 768), **no bias**\n",
        "      - `out_proj`: Output projection (768 → 768), **with bias**\n",
        "      - `dropout`: Applied to attention output (p=0.1)\n",
        "    - **FeedForward** (MLP):\n",
        "      - Sequential layers: `Linear(768 → 3072) → GELU → Linear(3072 → 768)`\n",
        "    - **Layer Normalizations:**\n",
        "      - `norm1` (pre-attention), `norm2` (pre-MLP)\n",
        "    - **Residual Dropout**: `drop_shortcut` (p=0.1)\n",
        "\n",
        "- **Final Layers:**\n",
        "  - `final_norm`: Layer normalization before output\n",
        "  - `out_head`: Final linear layer mapping hidden states to vocabulary logits `(768 → 50257)`\n",
        "\n",
        "---\n",
        "\n",
        "#### Notes:\n",
        "\n",
        "- **Dropout** is consistently used to regularize both embeddings and residual paths.\n",
        "- **No bias** is used in attention projections (as controlled by `qkv_bias=False`).\n",
        "- **Autoregressive model**: Only uses causal self-attention.\n",
        "- **Compatible with pretrained GPT-2 configurations** (via appropriate weight mapping).\n",
        "\n",
        "This configuration corresponds to **GPT-2 Small (124M parameters)** with:\n",
        "- 12 layers (transformer blocks)\n",
        "- 12 attention heads\n",
        "- Hidden size of 768\n"
      ],
      "metadata": {
        "id": "L1rkwmMzHgmF"
      }
    },
    {
      "cell_type": "code",
      "source": [
        "print(model)"
      ],
      "metadata": {
        "colab": {
          "base_uri": "https://localhost:8080/"
        },
        "id": "PhOzaCX2ye8z",
        "outputId": "0791a209-4ec6-43af-9bb7-523336033103"
      },
      "execution_count": 443,
      "outputs": [
        {
          "output_type": "stream",
          "name": "stdout",
          "text": [
            "GPTModel(\n",
            "  (tok_emb): Embedding(50257, 768)\n",
            "  (pos_emb): Embedding(1024, 768)\n",
            "  (drop_emb): Dropout(p=0.1, inplace=False)\n",
            "  (trf_block): Sequential(\n",
            "    (0): TransformerBlock(\n",
            "      (att): MultiHeadAttention(\n",
            "        (W_query): Linear(in_features=768, out_features=768, bias=False)\n",
            "        (W_key): Linear(in_features=768, out_features=768, bias=False)\n",
            "        (W_value): Linear(in_features=768, out_features=768, bias=False)\n",
            "        (out_proj): Linear(in_features=768, out_features=768, bias=True)\n",
            "        (dropout): Dropout(p=0.1, inplace=False)\n",
            "      )\n",
            "      (ff): FeedForward(\n",
            "        (layers): Sequential(\n",
            "          (0): Linear(in_features=768, out_features=3072, bias=True)\n",
            "          (1): GELU()\n",
            "          (2): Linear(in_features=3072, out_features=768, bias=True)\n",
            "        )\n",
            "      )\n",
            "      (norm1): LayerNorm()\n",
            "      (norm2): LayerNorm()\n",
            "      (drop_shortcut): Dropout(p=0.1, inplace=False)\n",
            "    )\n",
            "    (1): TransformerBlock(\n",
            "      (att): MultiHeadAttention(\n",
            "        (W_query): Linear(in_features=768, out_features=768, bias=False)\n",
            "        (W_key): Linear(in_features=768, out_features=768, bias=False)\n",
            "        (W_value): Linear(in_features=768, out_features=768, bias=False)\n",
            "        (out_proj): Linear(in_features=768, out_features=768, bias=True)\n",
            "        (dropout): Dropout(p=0.1, inplace=False)\n",
            "      )\n",
            "      (ff): FeedForward(\n",
            "        (layers): Sequential(\n",
            "          (0): Linear(in_features=768, out_features=3072, bias=True)\n",
            "          (1): GELU()\n",
            "          (2): Linear(in_features=3072, out_features=768, bias=True)\n",
            "        )\n",
            "      )\n",
            "      (norm1): LayerNorm()\n",
            "      (norm2): LayerNorm()\n",
            "      (drop_shortcut): Dropout(p=0.1, inplace=False)\n",
            "    )\n",
            "    (2): TransformerBlock(\n",
            "      (att): MultiHeadAttention(\n",
            "        (W_query): Linear(in_features=768, out_features=768, bias=False)\n",
            "        (W_key): Linear(in_features=768, out_features=768, bias=False)\n",
            "        (W_value): Linear(in_features=768, out_features=768, bias=False)\n",
            "        (out_proj): Linear(in_features=768, out_features=768, bias=True)\n",
            "        (dropout): Dropout(p=0.1, inplace=False)\n",
            "      )\n",
            "      (ff): FeedForward(\n",
            "        (layers): Sequential(\n",
            "          (0): Linear(in_features=768, out_features=3072, bias=True)\n",
            "          (1): GELU()\n",
            "          (2): Linear(in_features=3072, out_features=768, bias=True)\n",
            "        )\n",
            "      )\n",
            "      (norm1): LayerNorm()\n",
            "      (norm2): LayerNorm()\n",
            "      (drop_shortcut): Dropout(p=0.1, inplace=False)\n",
            "    )\n",
            "    (3): TransformerBlock(\n",
            "      (att): MultiHeadAttention(\n",
            "        (W_query): Linear(in_features=768, out_features=768, bias=False)\n",
            "        (W_key): Linear(in_features=768, out_features=768, bias=False)\n",
            "        (W_value): Linear(in_features=768, out_features=768, bias=False)\n",
            "        (out_proj): Linear(in_features=768, out_features=768, bias=True)\n",
            "        (dropout): Dropout(p=0.1, inplace=False)\n",
            "      )\n",
            "      (ff): FeedForward(\n",
            "        (layers): Sequential(\n",
            "          (0): Linear(in_features=768, out_features=3072, bias=True)\n",
            "          (1): GELU()\n",
            "          (2): Linear(in_features=3072, out_features=768, bias=True)\n",
            "        )\n",
            "      )\n",
            "      (norm1): LayerNorm()\n",
            "      (norm2): LayerNorm()\n",
            "      (drop_shortcut): Dropout(p=0.1, inplace=False)\n",
            "    )\n",
            "    (4): TransformerBlock(\n",
            "      (att): MultiHeadAttention(\n",
            "        (W_query): Linear(in_features=768, out_features=768, bias=False)\n",
            "        (W_key): Linear(in_features=768, out_features=768, bias=False)\n",
            "        (W_value): Linear(in_features=768, out_features=768, bias=False)\n",
            "        (out_proj): Linear(in_features=768, out_features=768, bias=True)\n",
            "        (dropout): Dropout(p=0.1, inplace=False)\n",
            "      )\n",
            "      (ff): FeedForward(\n",
            "        (layers): Sequential(\n",
            "          (0): Linear(in_features=768, out_features=3072, bias=True)\n",
            "          (1): GELU()\n",
            "          (2): Linear(in_features=3072, out_features=768, bias=True)\n",
            "        )\n",
            "      )\n",
            "      (norm1): LayerNorm()\n",
            "      (norm2): LayerNorm()\n",
            "      (drop_shortcut): Dropout(p=0.1, inplace=False)\n",
            "    )\n",
            "    (5): TransformerBlock(\n",
            "      (att): MultiHeadAttention(\n",
            "        (W_query): Linear(in_features=768, out_features=768, bias=False)\n",
            "        (W_key): Linear(in_features=768, out_features=768, bias=False)\n",
            "        (W_value): Linear(in_features=768, out_features=768, bias=False)\n",
            "        (out_proj): Linear(in_features=768, out_features=768, bias=True)\n",
            "        (dropout): Dropout(p=0.1, inplace=False)\n",
            "      )\n",
            "      (ff): FeedForward(\n",
            "        (layers): Sequential(\n",
            "          (0): Linear(in_features=768, out_features=3072, bias=True)\n",
            "          (1): GELU()\n",
            "          (2): Linear(in_features=3072, out_features=768, bias=True)\n",
            "        )\n",
            "      )\n",
            "      (norm1): LayerNorm()\n",
            "      (norm2): LayerNorm()\n",
            "      (drop_shortcut): Dropout(p=0.1, inplace=False)\n",
            "    )\n",
            "    (6): TransformerBlock(\n",
            "      (att): MultiHeadAttention(\n",
            "        (W_query): Linear(in_features=768, out_features=768, bias=False)\n",
            "        (W_key): Linear(in_features=768, out_features=768, bias=False)\n",
            "        (W_value): Linear(in_features=768, out_features=768, bias=False)\n",
            "        (out_proj): Linear(in_features=768, out_features=768, bias=True)\n",
            "        (dropout): Dropout(p=0.1, inplace=False)\n",
            "      )\n",
            "      (ff): FeedForward(\n",
            "        (layers): Sequential(\n",
            "          (0): Linear(in_features=768, out_features=3072, bias=True)\n",
            "          (1): GELU()\n",
            "          (2): Linear(in_features=3072, out_features=768, bias=True)\n",
            "        )\n",
            "      )\n",
            "      (norm1): LayerNorm()\n",
            "      (norm2): LayerNorm()\n",
            "      (drop_shortcut): Dropout(p=0.1, inplace=False)\n",
            "    )\n",
            "    (7): TransformerBlock(\n",
            "      (att): MultiHeadAttention(\n",
            "        (W_query): Linear(in_features=768, out_features=768, bias=False)\n",
            "        (W_key): Linear(in_features=768, out_features=768, bias=False)\n",
            "        (W_value): Linear(in_features=768, out_features=768, bias=False)\n",
            "        (out_proj): Linear(in_features=768, out_features=768, bias=True)\n",
            "        (dropout): Dropout(p=0.1, inplace=False)\n",
            "      )\n",
            "      (ff): FeedForward(\n",
            "        (layers): Sequential(\n",
            "          (0): Linear(in_features=768, out_features=3072, bias=True)\n",
            "          (1): GELU()\n",
            "          (2): Linear(in_features=3072, out_features=768, bias=True)\n",
            "        )\n",
            "      )\n",
            "      (norm1): LayerNorm()\n",
            "      (norm2): LayerNorm()\n",
            "      (drop_shortcut): Dropout(p=0.1, inplace=False)\n",
            "    )\n",
            "    (8): TransformerBlock(\n",
            "      (att): MultiHeadAttention(\n",
            "        (W_query): Linear(in_features=768, out_features=768, bias=False)\n",
            "        (W_key): Linear(in_features=768, out_features=768, bias=False)\n",
            "        (W_value): Linear(in_features=768, out_features=768, bias=False)\n",
            "        (out_proj): Linear(in_features=768, out_features=768, bias=True)\n",
            "        (dropout): Dropout(p=0.1, inplace=False)\n",
            "      )\n",
            "      (ff): FeedForward(\n",
            "        (layers): Sequential(\n",
            "          (0): Linear(in_features=768, out_features=3072, bias=True)\n",
            "          (1): GELU()\n",
            "          (2): Linear(in_features=3072, out_features=768, bias=True)\n",
            "        )\n",
            "      )\n",
            "      (norm1): LayerNorm()\n",
            "      (norm2): LayerNorm()\n",
            "      (drop_shortcut): Dropout(p=0.1, inplace=False)\n",
            "    )\n",
            "    (9): TransformerBlock(\n",
            "      (att): MultiHeadAttention(\n",
            "        (W_query): Linear(in_features=768, out_features=768, bias=False)\n",
            "        (W_key): Linear(in_features=768, out_features=768, bias=False)\n",
            "        (W_value): Linear(in_features=768, out_features=768, bias=False)\n",
            "        (out_proj): Linear(in_features=768, out_features=768, bias=True)\n",
            "        (dropout): Dropout(p=0.1, inplace=False)\n",
            "      )\n",
            "      (ff): FeedForward(\n",
            "        (layers): Sequential(\n",
            "          (0): Linear(in_features=768, out_features=3072, bias=True)\n",
            "          (1): GELU()\n",
            "          (2): Linear(in_features=3072, out_features=768, bias=True)\n",
            "        )\n",
            "      )\n",
            "      (norm1): LayerNorm()\n",
            "      (norm2): LayerNorm()\n",
            "      (drop_shortcut): Dropout(p=0.1, inplace=False)\n",
            "    )\n",
            "    (10): TransformerBlock(\n",
            "      (att): MultiHeadAttention(\n",
            "        (W_query): Linear(in_features=768, out_features=768, bias=False)\n",
            "        (W_key): Linear(in_features=768, out_features=768, bias=False)\n",
            "        (W_value): Linear(in_features=768, out_features=768, bias=False)\n",
            "        (out_proj): Linear(in_features=768, out_features=768, bias=True)\n",
            "        (dropout): Dropout(p=0.1, inplace=False)\n",
            "      )\n",
            "      (ff): FeedForward(\n",
            "        (layers): Sequential(\n",
            "          (0): Linear(in_features=768, out_features=3072, bias=True)\n",
            "          (1): GELU()\n",
            "          (2): Linear(in_features=3072, out_features=768, bias=True)\n",
            "        )\n",
            "      )\n",
            "      (norm1): LayerNorm()\n",
            "      (norm2): LayerNorm()\n",
            "      (drop_shortcut): Dropout(p=0.1, inplace=False)\n",
            "    )\n",
            "    (11): TransformerBlock(\n",
            "      (att): MultiHeadAttention(\n",
            "        (W_query): Linear(in_features=768, out_features=768, bias=False)\n",
            "        (W_key): Linear(in_features=768, out_features=768, bias=False)\n",
            "        (W_value): Linear(in_features=768, out_features=768, bias=False)\n",
            "        (out_proj): Linear(in_features=768, out_features=768, bias=True)\n",
            "        (dropout): Dropout(p=0.1, inplace=False)\n",
            "      )\n",
            "      (ff): FeedForward(\n",
            "        (layers): Sequential(\n",
            "          (0): Linear(in_features=768, out_features=3072, bias=True)\n",
            "          (1): GELU()\n",
            "          (2): Linear(in_features=3072, out_features=768, bias=True)\n",
            "        )\n",
            "      )\n",
            "      (norm1): LayerNorm()\n",
            "      (norm2): LayerNorm()\n",
            "      (drop_shortcut): Dropout(p=0.1, inplace=False)\n",
            "    )\n",
            "  )\n",
            "  (final_norm): LayerNorm()\n",
            "  (out_head): Linear(in_features=768, out_features=50257, bias=False)\n",
            ")\n"
          ]
        }
      ]
    },
    {
      "cell_type": "markdown",
      "source": [
        "### Fine-Tuning GPT for Classification (Freeze Except Last Block)\n",
        "\n",
        "This setup freezes the majority of a GPT model's layers and fine-tunes only the last transformer block, final normalization, and replaces the output head for classification (e.g., spam vs ham).\n"
      ],
      "metadata": {
        "id": "sMwqkdn-IKSk"
      }
    },
    {
      "cell_type": "code",
      "source": [
        "# Freeze all GPT model parameters\n",
        "for param in model.parameters():\n",
        "    param.requires_grad = False"
      ],
      "metadata": {
        "id": "4H9aCw773uiL"
      },
      "execution_count": 444,
      "outputs": []
    },
    {
      "cell_type": "code",
      "source": [
        "torch.manual_seed(123)\n",
        "\n",
        "# Replace the output head with a classification head (e.g., 2 classes)\n",
        "num_classes = 2\n",
        "model.out_head = torch.nn.Linear(in_features=BASE_CONFIG[\"emb_dim\"], out_features=num_classes)"
      ],
      "metadata": {
        "id": "eMQI1G4r44p6"
      },
      "execution_count": 445,
      "outputs": []
    },
    {
      "cell_type": "code",
      "source": [
        "# Unfreeze only the final transformer block\n",
        "for param in model.trf_block[-1].parameters():\n",
        "    param.requires_grad = True\n",
        "\n",
        "# Unfreeze the final layer normalization layer\n",
        "for param in model.final_norm.parameters():\n",
        "    param.requires_grad = True"
      ],
      "metadata": {
        "id": "sIFBWuzQ46T4"
      },
      "execution_count": 446,
      "outputs": []
    },
    {
      "cell_type": "markdown",
      "source": [
        "####Single Text Classification Inference\n",
        "We pass a prompt through the model and obtain logits for the last token, which are then softmaxed to get class probabilities."
      ],
      "metadata": {
        "id": "OPLt5kxqJcOk"
      }
    },
    {
      "cell_type": "code",
      "source": [
        "inputs = tokenizer.encode(\"Do you have time\")\n",
        "inputs = torch.tensor(inputs).unsqueeze(0)\n",
        "print(\"Inputs:\", inputs)\n",
        "print(\"Inputs dimensions:\", inputs.shape) # shape: (batch_size, num_tokens)\n",
        "\n",
        "with torch.no_grad():\n",
        "    outputs = model(inputs)\n",
        "\n",
        "print(\"Outputs:\\n\", outputs)\n",
        "print(\"Outputs dimensions:\", outputs.shape) # shape: (batch_size, num_tokens, num_classes)\n",
        "\n",
        "print(\"Last output token:\", outputs[:, -1, :])\n",
        "\n",
        "probas = torch.softmax(outputs[:, -1, :], dim=-1)\n",
        "label = torch.argmax(probas)\n",
        "print(\"Class label:\", label.item())\n",
        "\n",
        "logits = outputs[:, -1, :]\n",
        "label = torch.argmax(logits)\n",
        "print(\"Class label:\", label.item())"
      ],
      "metadata": {
        "colab": {
          "base_uri": "https://localhost:8080/"
        },
        "id": "sul7jJUX5iBu",
        "outputId": "31a84192-5c04-44d8-d84c-b00db321c77f"
      },
      "execution_count": 447,
      "outputs": [
        {
          "output_type": "stream",
          "name": "stdout",
          "text": [
            "Inputs: tensor([[5211,  345,  423,  640]])\n",
            "Inputs dimensions: torch.Size([1, 4])\n",
            "Outputs:\n",
            " tensor([[[-0.3217, -0.1943],\n",
            "         [ 0.1498, -0.6487],\n",
            "         [ 0.0912, -0.1845],\n",
            "         [ 0.2911, -1.1208]]])\n",
            "Outputs dimensions: torch.Size([1, 4, 2])\n",
            "Last output token: tensor([[ 0.2911, -1.1208]])\n",
            "Class label: 0\n",
            "Class label: 0\n"
          ]
        }
      ]
    },
    {
      "cell_type": "markdown",
      "source": [
        "### Accuracy Evaluation Function for GPT Classifier\n",
        "\n",
        "This utility calculates the token-level accuracy using the final output token of GPT for classification tasks (e.g., spam vs. ham).\n",
        "\n",
        "\n"
      ],
      "metadata": {
        "id": "-VM3c_myIbm0"
      }
    },
    {
      "cell_type": "code",
      "source": [
        "# Calculates token-level accuracy over a data loader\n",
        "def calc_accuracy_loader(data_loader, model, device, num_batches=None):\n",
        "    model.eval()\n",
        "    correct_predictions, num_examples = 0, 0\n",
        "\n",
        "    # Determine number of batches to evaluate\n",
        "    if num_batches is None:\n",
        "        num_batches = len(data_loader)\n",
        "    else:\n",
        "        num_batches = min(num_batches, len(data_loader))\n",
        "\n",
        "    # Iterate through the batches\n",
        "    for i, (input_batch, target_batch) in enumerate(data_loader):\n",
        "        if i < num_batches:\n",
        "            input_batch, target_batch = input_batch.to(device), target_batch.to(device)\n",
        "            # Disable gradient computation for inference\n",
        "            with torch.no_grad():\n",
        "                logits = model(input_batch)[:, -1, :]   # Logits of last output token\n",
        "            predicted_labels = torch.argmax(logits, dim=-1)   # Get predicted class indices\n",
        "\n",
        "            num_examples += predicted_labels.shape[0]   # Update number of evaluated samples\n",
        "\n",
        "            # NOTE: Ensure this compares to the correct target token\n",
        "            # If target_batch is full sequence, select only the last token\n",
        "            correct_predictions += (predicted_labels == target_batch).sum().item()\n",
        "        else:\n",
        "            break\n",
        "    # print(\"correct: \",correct_predictions)\n",
        "    # print(\"total: \",num_examples)\n",
        "    return correct_predictions / num_examples"
      ],
      "metadata": {
        "id": "XT2-6tZm9ykw"
      },
      "execution_count": 448,
      "outputs": []
    },
    {
      "cell_type": "markdown",
      "source": [
        "####Evaluation on Subset of Dataset\n",
        "We evaluate the model's performance on a small sample from each dataset (10 batches) for quick feedback on fine-tuning effectiveness.\n",
        "\n",
        "| Dataset    | Accuracy (%) |\n",
        "| ---------- | ------------ |\n",
        "| Training   | 53.75%       |\n",
        "| Validation | 55.00%       |\n",
        "| Test       | 51.25%       |\n",
        "\n",
        "\n",
        "**Note:** These results are based on 10 batches per set and may reflect underfitting. Consider training longer, adjusting learning rate, or unfreezing more layers for improved performance.\n"
      ],
      "metadata": {
        "id": "sGUt2s04Jnxw"
      }
    },
    {
      "cell_type": "code",
      "source": [
        "device = torch.device(\"cuda\" if torch.cuda.is_available() else \"cpu\")\n",
        "\n",
        "model.to(device) # no assignment model = model.to(device) necessary for nn.Module classes\n",
        "\n",
        "torch.manual_seed(123) # For reproducibility due to the shuffling in the training data loader\n",
        "\n",
        "# Evaluate classification accuracy on 10 batches from each dataset\n",
        "train_accuracy = calc_accuracy_loader(train_loader, model, device, num_batches=10)\n",
        "val_accuracy = calc_accuracy_loader(val_loader, model, device, num_batches=10)\n",
        "test_accuracy = calc_accuracy_loader(test_loader, model, device, num_batches=10)\n",
        "\n",
        "print(f\"Training accuracy: {train_accuracy*100:.2f}%\")\n",
        "print(f\"Validation accuracy: {val_accuracy*100:.2f}%\")\n",
        "print(f\"Test accuracy: {test_accuracy*100:.2f}%\")"
      ],
      "metadata": {
        "colab": {
          "base_uri": "https://localhost:8080/"
        },
        "id": "m3sYdPyQ-G6Z",
        "outputId": "32a80ec1-67f7-4b0b-95c4-237274f64533"
      },
      "execution_count": 449,
      "outputs": [
        {
          "output_type": "stream",
          "name": "stdout",
          "text": [
            "Training accuracy: 53.75%\n",
            "Validation accuracy: 55.00%\n",
            "Test accuracy: 51.25%\n"
          ]
        }
      ]
    },
    {
      "cell_type": "markdown",
      "source": [
        "### Cross-Entropy Loss Calculation for GPT Classifier\n",
        "\n",
        "This function computes the **cross-entropy loss** between the predicted logits of the **last token** and the ground truth labels. It is tailored for classification tasks using a GPT-style model where only the final token output is used for prediction.\n",
        "\n",
        "\n",
        "\n",
        "#### Usage:\n",
        "- `input_batch`: Tensor of token IDs, shape `(batch_size, sequence_length)`\n",
        "- `target_batch`: Corresponding ground truth class labels\n",
        "- `model`: GPT model adapted for classification\n",
        "- `device`: `cuda` or `cpu`\n",
        "\n",
        "---\n",
        "\n",
        "**Note:** This approach assumes only the final token is used for classification (typical for GPT fine-tuning on tasks like spam detection).\n"
      ],
      "metadata": {
        "id": "UkyLrZVCKTw-"
      }
    },
    {
      "cell_type": "code",
      "source": [
        "# Compute cross-entropy loss for the last token prediction in a batch\n",
        "def calc_loss_batch(input_batch, target_batch, model, device):\n",
        "    input_batch, target_batch = input_batch.to(device), target_batch.to(device)\n",
        "    # Forward pass through the model and select logits of the last token\n",
        "    logits = model(input_batch)[:, -1, :]         # Logits of last output token    Shape: (batch_size, vocab_size)\n",
        "    # Compute cross-entropy loss between predicted logits and target token indices\n",
        "    loss = torch.nn.functional.cross_entropy(logits, target_batch)\n",
        "    return loss"
      ],
      "metadata": {
        "id": "almaMOsN-UXg"
      },
      "execution_count": 450,
      "outputs": []
    },
    {
      "cell_type": "markdown",
      "source": [
        "### Average Cross-Entropy Loss over DataLoader\n",
        "\n",
        "This utility function computes the **average cross-entropy loss** across multiple batches from a PyTorch `DataLoader`. It is designed for evaluating GPT-style classifiers that use only the **final token's logits** for classification.\n",
        "\n",
        "---\n",
        "\n",
        "#### Summary:\n",
        "- **Purpose:** Evaluate model loss on a subset (or all) of a dataset.\n",
        "- **Granularity:** Operates on **batch-level** using the `calc_loss_batch` function.\n",
        "- **Safe:** Handles empty datasets and respects batch limits.\n",
        "\n",
        "Ideal for **validation** or **testing** loops during fine-tuning of transformer-based classifiers.\n"
      ],
      "metadata": {
        "id": "wbzeveXtKgFA"
      }
    },
    {
      "cell_type": "code",
      "source": [
        "# Calculates the average cross-entropy loss over multiple batches from a DataLoader\n",
        "def calc_loss_loader(data_loader, model, device, num_batches=None):\n",
        "    total_loss = 0.                                                                 # Initialize running total of loss\n",
        "\n",
        "    # Edge case: if the DataLoader is empty, return NaN\n",
        "    if len(data_loader) == 0:\n",
        "        return float(\"nan\")\n",
        "    # Determine how many batches to evaluate (either all or a limited number)\n",
        "    elif num_batches is None:\n",
        "        num_batches = len(data_loader)\n",
        "    else:\n",
        "        # Reduce the number of batches to match the total number of batches in the data loader\n",
        "        # if num_batches exceeds the number of batches in the data loader\n",
        "        num_batches = min(num_batches, len(data_loader))                            # Cap num_batches at the size of the DataLoader to avoid index overflow\n",
        "\n",
        "    # Loop over the DataLoader and accumulate loss\n",
        "    for i, (input_batch, target_batch) in enumerate(data_loader):\n",
        "        if i < num_batches:\n",
        "            loss = calc_loss_batch(input_batch, target_batch, model, device)        # Compute loss for this batch using the provided loss function\n",
        "            total_loss += loss.item()                                               # Accumulate the scalar loss value\n",
        "        else:\n",
        "            break                                                                   # Stop early if max number of batches is reached\n",
        "    return total_loss / num_batches"
      ],
      "metadata": {
        "id": "PKq-30YCCWFP"
      },
      "execution_count": 451,
      "outputs": []
    },
    {
      "cell_type": "markdown",
      "source": [
        "### Loss Evaluation (Subset of Dataset)\n",
        "\n",
        "We compute the **cross-entropy loss** on a subset of each dataset (5 batches) to quickly gauge model performance during evaluation.\n",
        "\n",
        "---\n",
        "\n",
        "####  Results:\n",
        "\n",
        "| Dataset    | Cross-Entropy Loss |\n",
        "|------------|--------------------|\n",
        "| Training   | **0.772**          |\n",
        "| Validation | **0.764**          |\n",
        "| Test       | **0.789**          |\n",
        "\n",
        ">  *Note:* Loss values are averaged over only 5 batches from each split and may not represent the full dataset performance. Fine-tuning or more batch coverage may improve the results.\n",
        "\n"
      ],
      "metadata": {
        "id": "vgGtRlQTKrfy"
      }
    },
    {
      "cell_type": "code",
      "source": [
        "with torch.no_grad(): # Disable gradient tracking for efficiency because we are not training, yet\n",
        "    train_loss = calc_loss_loader(train_loader, model, device, num_batches=5)\n",
        "    val_loss = calc_loss_loader(val_loader, model, device, num_batches=5)\n",
        "    test_loss = calc_loss_loader(test_loader, model, device, num_batches=5)\n",
        "\n",
        "print(f\"Training loss: {train_loss:.3f}\")\n",
        "print(f\"Validation loss: {val_loss:.3f}\")\n",
        "print(f\"Test loss: {test_loss:.3f}\")"
      ],
      "metadata": {
        "colab": {
          "base_uri": "https://localhost:8080/"
        },
        "id": "oLg5EEMgCYg8",
        "outputId": "2cc058f5-2b67-4f6a-bd76-3045bc2f1c3d"
      },
      "execution_count": 452,
      "outputs": [
        {
          "output_type": "stream",
          "name": "stdout",
          "text": [
            "Training loss: 0.772\n",
            "Validation loss: 0.764\n",
            "Test loss: 0.789\n"
          ]
        }
      ]
    },
    {
      "cell_type": "markdown",
      "source": [
        "FINETUNING THE MODEL ON SUPERVISED DATA"
      ],
      "metadata": {
        "id": "vmaPWXPlCgNO"
      }
    },
    {
      "cell_type": "markdown",
      "source": [
        "### Simple Training Loop for GPT-based Text Classifier\n",
        "\n",
        "This function trains a GPT-style model for text classification using **cross-entropy loss** and **accuracy evaluation** on both training and validation datasets.\n",
        "\n",
        "\n",
        "---\n",
        "\n",
        "#### Highlights:\n",
        "- Evaluates loss every `eval_freq` steps on `eval_iter` batches.\n",
        "- Tracks both **loss** and **accuracy** across epochs.\n",
        "- Returns all key metrics for visualization or logging:\n",
        "  - Training & validation loss\n",
        "  - Training & validation accuracy\n",
        "  - Total examples seen\n",
        "\n",
        "> Use this for efficient fine-tuning or transfer learning on classification tasks like spam detection.\n"
      ],
      "metadata": {
        "id": "Dz1qxDRCK3AJ"
      }
    },
    {
      "cell_type": "code",
      "source": [
        "# Overall the same as `train_model_simple` in chapter 5\n",
        "def train_classifier_simple(model, train_loader, val_loader, optimizer, device, num_epochs,\n",
        "                            eval_freq, eval_iter):\n",
        "    # Initialize lists to track losses and examples seen\n",
        "    train_losses, val_losses, train_accs, val_accs = [], [], [], []\n",
        "    examples_seen, global_step = 0, -1\n",
        "\n",
        "    # Main training loop\n",
        "    for epoch in range(num_epochs):\n",
        "        model.train()  # Set model to training mode\n",
        "\n",
        "        for input_batch, target_batch in train_loader:\n",
        "            optimizer.zero_grad() # Reset loss gradients from previous batch iteration\n",
        "            loss = calc_loss_batch(input_batch, target_batch, model, device)\n",
        "            loss.backward() # Calculate loss gradients\n",
        "            optimizer.step() # Update model weights using loss gradients\n",
        "            examples_seen += input_batch.shape[0] # New: track examples instead of tokens\n",
        "            global_step += 1\n",
        "\n",
        "            # Optional evaluation step\n",
        "            if global_step % eval_freq == 0:\n",
        "                train_loss, val_loss = evaluate_model(\n",
        "                    model, train_loader, val_loader, device, eval_iter)\n",
        "                train_losses.append(train_loss)\n",
        "                val_losses.append(val_loss)\n",
        "                print(f\"Ep {epoch+1} (Step {global_step:06d}): \"\n",
        "                      f\"Train loss {train_loss:.3f}, Val loss {val_loss:.3f}\")\n",
        "\n",
        "        # Calculate accuracy after each epoch\n",
        "        train_accuracy = calc_accuracy_loader(train_loader, model, device, num_batches=eval_iter)\n",
        "        val_accuracy = calc_accuracy_loader(val_loader, model, device, num_batches=eval_iter)\n",
        "        print(f\"Training accuracy: {train_accuracy*100:.2f}% | \", end=\"\")\n",
        "        print(f\"Validation accuracy: {val_accuracy*100:.2f}%\")\n",
        "        train_accs.append(train_accuracy)\n",
        "        val_accs.append(val_accuracy)\n",
        "\n",
        "    return train_losses, val_losses, train_accs, val_accs, examples_seen"
      ],
      "metadata": {
        "id": "lL9sDZgZCanm"
      },
      "execution_count": 453,
      "outputs": []
    },
    {
      "cell_type": "markdown",
      "source": [
        "### Evaluation Function for GPT Classifier\n",
        "\n",
        "This utility function computes the **average loss** on both training and validation sets using a fixed number of batches. It is typically called during training to monitor progress.\n",
        "\n",
        "\n",
        "---\n",
        "\n",
        "#### Purpose:\n",
        "- Returns **average cross-entropy loss** over `eval_iter` batches for:\n",
        "  - `train_loader`\n",
        "  - `val_loader`\n",
        "\n",
        "#### Usage:\n",
        "- Designed to be called inside a training loop, typically at intervals like `every N steps`.\n",
        "- Supports quick feedback without evaluating on the full dataset.\n",
        "\n",
        "> Efficient way to monitor overfitting and convergence during training.\n"
      ],
      "metadata": {
        "id": "-pIwIdaELBVV"
      }
    },
    {
      "cell_type": "code",
      "source": [
        "# Evaluates model loss on training and validation data over a fixed number of batches\n",
        "def evaluate_model(model, train_loader, val_loader, device, eval_iter):\n",
        "    model.eval()\n",
        "    with torch.no_grad():\n",
        "        train_loss = calc_loss_loader(train_loader, model, device, num_batches=eval_iter)\n",
        "        val_loss = calc_loss_loader(val_loader, model, device, num_batches=eval_iter)\n",
        "    model.train()\n",
        "    return train_loss, val_loss"
      ],
      "metadata": {
        "id": "IoknSVEACieH"
      },
      "execution_count": 454,
      "outputs": []
    },
    {
      "cell_type": "markdown",
      "source": [
        "### GPT Classifier Training Summary\n",
        "\n",
        "This section documents the training of a GPT-style model (fine-tuned for binary classification) using the **AdamW optimizer**, over **5 epochs** with periodic evaluation.\n",
        "\n",
        "---\n",
        "\n",
        "#### Training Configuration:\n",
        "\n",
        "- **Epochs:** `5`\n",
        "- **Optimizer:** `AdamW`\n",
        "- **Learning Rate:** `5e-5`\n",
        "- **Weight Decay:** `0.1`\n",
        "- **Evaluation Frequency:** every `50` steps\n",
        "- **Evaluation Batches per Step:** `5`\n",
        "- **Seed:** `123`\n",
        "- **Total Time:** `~1.06 minutes`\n",
        "\n",
        "---\n",
        "\n",
        "#### Training & Validation Loss (Selected Steps)\n",
        "\n",
        "| Step   | Train Loss | Val Loss |\n",
        "|--------|------------|----------|\n",
        "| 0      | 0.899      | 0.847    |\n",
        "| 50     | 0.385      | 0.441    |\n",
        "| 100    | 0.260      | 0.377    |\n",
        "| 150    | 0.447      | 0.344    |\n",
        "| 200    | 0.334      | 0.323    |\n",
        "| 250    | 0.401      | 0.296    |\n",
        "| 300    | 0.236      | 0.296    |\n",
        "| 350    | 0.208      | 0.209    |\n",
        "| 400    | 0.108      | 0.171    |\n",
        "| 450    | 0.099      | 0.170    |\n",
        "| 500    | 0.182      | 0.256    |\n",
        "| 550    | 0.169      | 0.147    |\n",
        "| 600    | 0.120      | 0.151    |\n",
        "\n",
        "---\n",
        "\n",
        "#### Epoch-wise Accuracy:\n",
        "\n",
        "| Epoch | Training Accuracy | Validation Accuracy |\n",
        "|-------|-------------------|---------------------|\n",
        "| 1     | 85.00%            | 82.50%              |\n",
        "| 2     | 82.50%            | 82.50%              |\n",
        "| 3     | 87.50%            | 87.50%              |\n",
        "| 4     | 95.00%            | 90.00%              |\n",
        "| 5     | 100.00%           | 95.00%              |\n",
        "\n",
        "---\n",
        "\n",
        "#### Observations:\n",
        "\n",
        "- The model shows **progressive improvement** in both loss and accuracy.\n",
        "- Final validation accuracy reached **95%**, suggesting effective fine-tuning.\n",
        "- Potential signs of slight overfitting in later epochs (train acc = 100%).\n",
        "\n",
        "> Consider early stopping or regularization if performance starts degrading.\n",
        "\n"
      ],
      "metadata": {
        "id": "UHRpyzkGLPr-"
      }
    },
    {
      "cell_type": "code",
      "source": [
        "import time\n",
        "\n",
        "start_time = time.time()\n",
        "torch.manual_seed(123)\n",
        "optimizer = torch.optim.AdamW(model.parameters(), lr=5e-5, weight_decay=0.1)\n",
        "num_epochs = 5\n",
        "\n",
        "train_losses, val_losses, train_accs, val_accs, examples_seen = train_classifier_simple(\n",
        "    model, train_loader, val_loader, optimizer, device,\n",
        "    num_epochs=num_epochs, eval_freq=50, eval_iter=5,\n",
        ")\n",
        "\n",
        "end_time = time.time()\n",
        "execution_time_minutes = (end_time - start_time) / 60\n",
        "print(f\"Training completed in {execution_time_minutes:.2f} minutes.\")"
      ],
      "metadata": {
        "colab": {
          "base_uri": "https://localhost:8080/"
        },
        "id": "S1Iq2P3QCkKS",
        "outputId": "21143c75-0894-4473-aff2-9522ec7da188"
      },
      "execution_count": 455,
      "outputs": [
        {
          "output_type": "stream",
          "name": "stdout",
          "text": [
            "Ep 1 (Step 000000): Train loss 0.899, Val loss 0.847\n",
            "Ep 1 (Step 000050): Train loss 0.385, Val loss 0.441\n",
            "Ep 1 (Step 000100): Train loss 0.260, Val loss 0.377\n",
            "Training accuracy: 85.00% | Validation accuracy: 82.50%\n",
            "Ep 2 (Step 000150): Train loss 0.447, Val loss 0.344\n",
            "Ep 2 (Step 000200): Train loss 0.334, Val loss 0.323\n",
            "Ep 2 (Step 000250): Train loss 0.401, Val loss 0.296\n",
            "Training accuracy: 82.50% | Validation accuracy: 82.50%\n",
            "Ep 3 (Step 000300): Train loss 0.236, Val loss 0.296\n",
            "Ep 3 (Step 000350): Train loss 0.208, Val loss 0.209\n",
            "Training accuracy: 87.50% | Validation accuracy: 87.50%\n",
            "Ep 4 (Step 000400): Train loss 0.108, Val loss 0.171\n",
            "Ep 4 (Step 000450): Train loss 0.099, Val loss 0.170\n",
            "Ep 4 (Step 000500): Train loss 0.182, Val loss 0.256\n",
            "Training accuracy: 95.00% | Validation accuracy: 90.00%\n",
            "Ep 5 (Step 000550): Train loss 0.169, Val loss 0.147\n",
            "Ep 5 (Step 000600): Train loss 0.120, Val loss 0.151\n",
            "Training accuracy: 100.00% | Validation accuracy: 95.00%\n",
            "Training completed in 1.06 minutes.\n"
          ]
        }
      ]
    },
    {
      "cell_type": "markdown",
      "source": [
        "### Plotting Training & Validation Metrics\n",
        "\n",
        "This function visualizes the progression of **loss or accuracy** over training epochs. It supports dual x-axes: one for epochs and one for the number of examples seen.\n",
        "\n",
        "#### Features:\n",
        "- Plots both training and validation curves\n",
        "- Shows **epochs** on the bottom x-axis and **examples seen** on the top\n",
        "- Automatically saves the plot as a PDF\n",
        "\n",
        "\n",
        "> Call this function with `label=\"loss\"` or `label=\"accuracy\"` to produce the respective plots.\n"
      ],
      "metadata": {
        "id": "zropdJjXLbY9"
      }
    },
    {
      "cell_type": "code",
      "source": [
        "import matplotlib.pyplot as plt\n",
        "\n",
        "def plot_values(epochs_seen, examples_seen, train_values, val_values, label=\"loss\"):\n",
        "    fig, ax1 = plt.subplots(figsize=(5, 3))\n",
        "\n",
        "    # Plot training and validation loss against epochs\n",
        "    ax1.plot(epochs_seen, train_values, label=f\"Training {label}\")\n",
        "    ax1.plot(epochs_seen, val_values, linestyle=\"-.\", label=f\"Validation {label}\")\n",
        "    ax1.set_xlabel(\"Epochs\")\n",
        "    ax1.set_ylabel(label.capitalize())\n",
        "    ax1.legend()\n",
        "\n",
        "    # Create a second x-axis for examples seen\n",
        "    ax2 = ax1.twiny()  # Create a second x-axis that shares the same y-axis\n",
        "    ax2.plot(examples_seen, train_values, alpha=0)  # Invisible plot for aligning ticks\n",
        "    ax2.set_xlabel(\"Examples seen\")\n",
        "\n",
        "    fig.tight_layout()  # Adjust layout to make room\n",
        "    plt.savefig(f\"{label}-plot.pdf\")\n",
        "    plt.show()"
      ],
      "metadata": {
        "id": "qPWBwDbnCmHT"
      },
      "execution_count": 456,
      "outputs": []
    },
    {
      "cell_type": "markdown",
      "source": [
        "### Training vs. Validation Loss Curve\n",
        "\n",
        "The plot below illustrates how the training and validation loss evolve over time during the fine-tuning of the GPT-2 Small classifier on the SMS Spam dataset.\n",
        "\n",
        "- **X-axis (bottom):** Epochs\n",
        "- **X-axis (top):** Number of examples seen\n",
        "- **Y-axis:** Cross-entropy loss\n",
        "\n",
        "| Metric         | Observation                           |\n",
        "|----------------|----------------------------------------|\n",
        "| Training Loss  | Decreases steadily, shows convergence |\n",
        "| Validation Loss| Follows training loss, no overfitting detected |\n",
        "\n",
        "\n",
        "> ✅ **Interpretation:** The model is learning effectively with both training and validation losses decreasing consistently. Validation loss aligns well with training loss, indicating generalization without overfitting.\n"
      ],
      "metadata": {
        "id": "DD2b3ESMLrHq"
      }
    },
    {
      "cell_type": "code",
      "source": [
        "epochs_tensor = torch.linspace(0, num_epochs, len(train_losses))\n",
        "examples_seen_tensor = torch.linspace(0, examples_seen, len(train_losses))\n",
        "\n",
        "plot_values(epochs_tensor, examples_seen_tensor, train_losses, val_losses)"
      ],
      "metadata": {
        "colab": {
          "base_uri": "https://localhost:8080/",
          "height": 307
        },
        "id": "jMhdT0-PC10K",
        "outputId": "d56292bb-a020-4702-b725-9161db59c73e"
      },
      "execution_count": 457,
      "outputs": [
        {
          "output_type": "display_data",
          "data": {
            "text/plain": [
              "<Figure size 500x300 with 2 Axes>"
            ],
            "image/png": "[encoded data removed]"
          },
          "metadata": {}
        }
      ]
    },
    {
      "cell_type": "markdown",
      "source": [
        "### Training vs. Validation Accuracy Curve\n",
        "\n",
        "This plot visualizes how the classification accuracy of the GPT-2 Small model improves over training epochs on the SMS Spam detection task.\n",
        "\n",
        "- **X-axis (bottom):** Epochs\n",
        "- **X-axis (top):** Examples seen during training\n",
        "- **Y-axis:** Accuracy (0 to 1.0)\n",
        "\n",
        "| Metric           | Observation                                |\n",
        "|------------------|---------------------------------------------|\n",
        "| Training Accuracy | Increases steadily to 100% by final epoch |\n",
        "| Validation Accuracy | Closely tracks training, reaches ~95%    |\n",
        "\n",
        "\n",
        "> **Interpretation:** The model shows strong learning progress without signs of overfitting. The small gap between training and validation accuracy suggests effective generalization.\n"
      ],
      "metadata": {
        "id": "wF2WeAxHL6pv"
      }
    },
    {
      "cell_type": "code",
      "source": [
        "epochs_tensor = torch.linspace(0, num_epochs, len(train_accs))\n",
        "examples_seen_tensor = torch.linspace(0, examples_seen, len(train_accs))\n",
        "\n",
        "plot_values(epochs_tensor, examples_seen_tensor, train_accs, val_accs, label=\"accuracy\")"
      ],
      "metadata": {
        "colab": {
          "base_uri": "https://localhost:8080/",
          "height": 307
        },
        "id": "Hf6TXPsNC4Ux",
        "outputId": "2f163830-cc3a-4946-d031-ba94cd52ec3a"
      },
      "execution_count": 458,
      "outputs": [
        {
          "output_type": "display_data",
          "data": {
            "text/plain": [
              "<Figure size 500x300 with 2 Axes>"
            ],
            "image/png": "[encoded data removed]"
          },
          "metadata": {}
        }
      ]
    },
    {
      "cell_type": "markdown",
      "source": [
        "### Final Accuracy Evaluation (Full Dataset)\n",
        "\n",
        "After completing fine-tuning of the GPT-2 Small classifier on the SMS Spam dataset, the model was evaluated on the **entire** training, validation, and test sets.\n",
        "\n",
        "| Dataset    | Accuracy (%) |\n",
        "|------------|--------------|\n",
        "| Training   | **98.75%**   |\n",
        "| Validation | **95.97%**   |\n",
        "| Test       | **94.00%**   |\n",
        "\n",
        "> **Conclusion:**  \n",
        "The model demonstrates **strong generalization** across all sets. High training accuracy (98.75%) paired with competitive validation and test accuracies suggests that the classifier has **successfully learned to distinguish spam from ham messages** without overfitting.\n",
        "\n",
        "\n"
      ],
      "metadata": {
        "id": "4VGJxZ2TMFa3"
      }
    },
    {
      "cell_type": "code",
      "source": [
        "train_accuracy = calc_accuracy_loader(train_loader, model, device)\n",
        "val_accuracy = calc_accuracy_loader(val_loader, model, device)\n",
        "test_accuracy = calc_accuracy_loader(test_loader, model, device)\n",
        "\n",
        "print(f\"Training accuracy: {train_accuracy*100:.2f}%\")\n",
        "print(f\"Validation accuracy: {val_accuracy*100:.2f}%\")\n",
        "print(f\"Test accuracy: {test_accuracy*100:.2f}%\")"
      ],
      "metadata": {
        "colab": {
          "base_uri": "https://localhost:8080/"
        },
        "id": "RruPxTsOC7fG",
        "outputId": "053ef2e0-dfa3-4b51-a102-f1a6d64f5ee8"
      },
      "execution_count": 459,
      "outputs": [
        {
          "output_type": "stream",
          "name": "stdout",
          "text": [
            "Training accuracy: 98.75%\n",
            "Validation accuracy: 95.97%\n",
            "Test accuracy: 94.00%\n"
          ]
        }
      ]
    },
    {
      "cell_type": "markdown",
      "source": [
        "USING THE LLM AS A SPAM CLASSIFIER"
      ],
      "metadata": {
        "id": "LoB4CctKDCuC"
      }
    },
    {
      "cell_type": "markdown",
      "source": [
        "### SMS Spam Classification Utility\n",
        "\n",
        "The `classify_review` function performs **inference** using a fine-tuned GPT model to classify a single text message as `\"spam\"` or `\"not spam\"`.\n",
        "\n",
        "#### Function Breakdown:\n",
        "\n",
        "| Step | Description |\n",
        "|------|-------------|\n",
        "| 1    | Tokenize input using GPT tokenizer |\n",
        "| 2    | Truncate to `max_length` or model’s context limit |\n",
        "| 3    | Pad input to ensure fixed length |\n",
        "| 4    | Add batch dimension (batch size = 1) |\n",
        "| 5    | Disable gradient computation for efficiency |\n",
        "| 6    | Extract final token’s logits for classification |\n",
        "| 7    | Return `\"spam\"` or `\"not spam\"` based on prediction |\n",
        "\n",
        "> Make sure to pass `max_length=BASE_CONFIG[\"context_length\"]` to prevent dimension mismatch.\n"
      ],
      "metadata": {
        "id": "vVj6EMREDFYa"
      }
    },
    {
      "cell_type": "code",
      "source": [
        "def classify_review(text, model, tokenizer, device, max_length=None, pad_token_id=50256):\n",
        "    model.eval()\n",
        "\n",
        "    # Prepare inputs to the model\n",
        "    # Step 1: Prepare inputs to the model\n",
        "    input_ids = tokenizer.encode(text)\n",
        "    supported_context_length = model.pos_emb.weight.shape[0]\n",
        "    # Note: In the book, this was originally written as pos_emb.weight.shape[1] by mistake\n",
        "    # It didn't break the code but would have caused unnecessary truncation (to 768 instead of 1024)\n",
        "\n",
        "    # Step 2: Truncate sequences if they are too long\n",
        "    input_ids = input_ids[:min(max_length, supported_context_length)]\n",
        "\n",
        "    # Step 3: Pad sequences to match max_length\n",
        "    input_ids += [pad_token_id] * (max_length - len(input_ids))\n",
        "\n",
        "    # Step 4: Add batch dimension\n",
        "    input_tensor = torch.tensor(input_ids, device=device).unsqueeze(0) # add batch dimension\n",
        "\n",
        "    # Model inference\n",
        "    # Step 5: Model inference without gradient tracking\n",
        "    with torch.no_grad():\n",
        "        # Step 6: Use logits from the last output token\n",
        "        logits = model(input_tensor)[:, -1, :]  # Logits of the last output token\n",
        "    predicted_label = torch.argmax(logits, dim=-1).item()\n",
        "\n",
        "    # Return the classified result\n",
        "    return \"spam\" if predicted_label == 1 else \"not spam\"       # Step 7: Return the classified result"
      ],
      "metadata": {
        "id": "v90fKMaCC-j5"
      },
      "execution_count": 460,
      "outputs": []
    },
    {
      "cell_type": "markdown",
      "source": [
        "###Classify a Spam SMS using GPT Classifier\n"
      ],
      "metadata": {
        "id": "Dk0rKlLPNKpE"
      }
    },
    {
      "cell_type": "code",
      "source": [
        "text_1 = (\n",
        "    \"You are a winner you have been specially\"\n",
        "    \" selected to receive $1000 cash or a $2000 award.\"\n",
        ")\n",
        "\n",
        "print(classify_review(\n",
        "    text_1, model, tokenizer, device, max_length=train_dataset.max_length\n",
        "))"
      ],
      "metadata": {
        "colab": {
          "base_uri": "https://localhost:8080/"
        },
        "id": "ndmefMLWDHwk",
        "outputId": "529b6257-973a-466e-c2fb-97c000a6e4fe"
      },
      "execution_count": 461,
      "outputs": [
        {
          "output_type": "stream",
          "name": "stdout",
          "text": [
            "spam\n"
          ]
        }
      ]
    },
    {
      "cell_type": "code",
      "source": [
        "text_2 = (\n",
        "    \"Hey, just wanted to check if we're still on\"\n",
        "    \" for dinner tonight? Let me know!\"\n",
        ")\n",
        "\n",
        "print(classify_review(\n",
        "    text_2, model, tokenizer, device, max_length=train_dataset.max_length\n",
        "))"
      ],
      "metadata": {
        "colab": {
          "base_uri": "https://localhost:8080/"
        },
        "id": "tHtKA3TsDJeh",
        "outputId": "f492fb08-fb85-4f02-909d-9f0e6131d45d"
      },
      "execution_count": 462,
      "outputs": [
        {
          "output_type": "stream",
          "name": "stdout",
          "text": [
            "not spam\n"
          ]
        }
      ]
    },
    {
      "cell_type": "code",
      "source": [
        "text_1 = (\n",
        "    \"Congratulations! You've been selected for a free cruise to the Bahamas. Call now to claim your prize.\"\n",
        ")\n",
        "print(classify_review(\n",
        "    text_1, model, tokenizer, device, max_length=train_dataset.max_length\n",
        "))\n",
        "\n",
        "text_2 = (\n",
        "    \"URGENT! Your mobile number has won $5000. Click the link to claim: http://bit.ly/winprize\"\n",
        ")\n",
        "print(classify_review(\n",
        "    text_2, model, tokenizer, device, max_length=train_dataset.max_length\n",
        "))\n",
        "\n",
        "text_3 = (\n",
        "    \"Limited time offer: Buy 1 get 2 FREE! Visit our store today or call 123-456-7890.\"\n",
        ")\n",
        "print(classify_review(\n",
        "    text_3, model, tokenizer, device, max_length=train_dataset.max_length\n",
        "))\n"
      ],
      "metadata": {
        "colab": {
          "base_uri": "https://localhost:8080/"
        },
        "id": "8jfiLljlDLI-",
        "outputId": "f58d013c-c490-401c-cb83-d20554f04d4b"
      },
      "execution_count": 467,
      "outputs": [
        {
          "output_type": "stream",
          "name": "stdout",
          "text": [
            "spam\n",
            "spam\n",
            "spam\n"
          ]
        }
      ]
    },
    {
      "cell_type": "code",
      "source": [
        "text_4 = (\n",
        "    \"Don’t forget our meeting tomorrow at 10 AM. Let me know if the time works for you.\"\n",
        ")\n",
        "print(classify_review(\n",
        "    text_4, model, tokenizer, device, max_length=train_dataset.max_length\n",
        "))\n",
        "\n",
        "text_5 = (\n",
        "    \"Just wanted to say happy birthday! Hope you have an amazing day ahead 🎉\"\n",
        ")\n",
        "print(classify_review(\n",
        "    text_5, model, tokenizer, device, max_length=train_dataset.max_length\n",
        "))\n",
        "\n",
        "text_6 = (\n",
        "    \"Can you send me the notes from today's lecture? I missed the class.\"\n",
        ")\n",
        "print(classify_review(\n",
        "    text_6, model, tokenizer, device, max_length=train_dataset.max_length\n",
        "))\n"
      ],
      "metadata": {
        "colab": {
          "base_uri": "https://localhost:8080/"
        },
        "id": "tcPXBMJDV8ux",
        "outputId": "38e4fd9d-1735-4cce-9bac-44e45d1f86ad"
      },
      "execution_count": 468,
      "outputs": [
        {
          "output_type": "stream",
          "name": "stdout",
          "text": [
            "not spam\n",
            "not spam\n",
            "not spam\n"
          ]
        }
      ]
    },
    {
      "cell_type": "code",
      "source": [],
      "metadata": {
        "id": "1t1W0Y7nWWpd"
      },
      "execution_count": null,
      "outputs": []
    }
  ]
}